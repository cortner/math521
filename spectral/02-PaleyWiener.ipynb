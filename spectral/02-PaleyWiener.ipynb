{
 "cells": [
  {
   "cell_type": "markdown",
   "id": "9faef41d",
   "metadata": {},
   "source": [
    "# Exploration of Paley-Wiener Thm\n",
    "\n",
    "In this notebook, we briefly explore numerically the result of a variant of the Paley-Wiener theorem: if $f$ is analytic and $2\\pi$-periodic, then there exists $\\alpha > 0$ such that $|\\hat{f}_k| \\leq C e^{-\\alpha |k|}$. The $\\alpha$ can be chosen such that $f$ is analytic in the strip $\\Omega_\\alpha := \\{ z + i y : |y| \\leq \\alpha \\}$. "
   ]
  },
  {
   "cell_type": "code",
   "execution_count": null,
   "id": "51394108",
   "metadata": {},
   "outputs": [],
   "source": [
    "using Pkg; Pkg.activate(\".\")\n",
    "using Plots, QuadGK, LinearAlgebra, LaTeXStrings\n",
    "include(\"tools.jl\")"
   ]
  },
  {
   "cell_type": "code",
   "execution_count": null,
   "id": "ead77e4b",
   "metadata": {},
   "outputs": [],
   "source": [
    "\"\"\"\n",
    "This is a very naive method to compute the \n",
    "Fourier coefficients. We will soon learn about \n",
    "much more efficient schemes based on the FFT.\n",
    "\"\"\"\n",
    "function compute_fcoeffs(f_fun, N)\n",
    "    fhat = zeros(ComplexF64, 2*N+1)\n",
    "    kgrid = -N:N\n",
    "    for (i, k) in enumerate(kgrid)\n",
    "        g = x -> f_fun(x) * exp(-im * k * x)\n",
    "        fhat[i] = quadgk(g, -pi, pi; rtol = 1e-6, atol=1e-6)[1] / (2*pi)\n",
    "    end\n",
    "    return fhat, kgrid\n",
    "end"
   ]
  },
  {
   "cell_type": "markdown",
   "id": "83a4a6e0",
   "metadata": {},
   "source": [
    "Our model problem is a periodic version of the Witch of Agnesi, \n",
    "$$\n",
    "  f(x) = \\frac{1}{1+ c^2 \\sin^2(x)}\n",
    "$$\n",
    "It's analytic extension into the complex plane has a singularity \n",
    "at $z = \\pm i \\alpha$, where $\\alpha = \\sinh^{-1}(c^{-1})$."
   ]
  },
  {
   "cell_type": "code",
   "execution_count": null,
   "id": "a32db46a",
   "metadata": {},
   "outputs": [],
   "source": [
    "f, α = let c = 3\n",
    "    (x -> 1 / (1 + c^2 * sin(x)^2)), asinh(1/c)\n",
    "end\n",
    "\n",
    "F̂, kgrid = compute_fcoeffs(f, 20);\n"
   ]
  },
  {
   "cell_type": "code",
   "execution_count": null,
   "id": "28d00a75",
   "metadata": {},
   "outputs": [],
   "source": [
    "scatter(abs.(kgrid), abs.(F̂); ms = 6, \n",
    "        size = (400, 300), yscale = :log10, label = \"\", \n",
    "        xlabel = \"|k|\", ylims = (1e-4, 1))\n",
    "plot!( [10, 18], 0.1*exp.(-α * [10, 18]), lw=2, ls=:dash, c=:black, \n",
    "        label = L\"\\exp(-\\alpha N)\")"
   ]
  },
  {
   "cell_type": "markdown",
   "id": "88b94a91",
   "metadata": {},
   "source": [
    "We can quickly confirm the resulting rate of approximation."
   ]
  },
  {
   "cell_type": "code",
   "execution_count": null,
   "id": "aac45c0d",
   "metadata": {},
   "outputs": [],
   "source": [
    "function eval_trig(x, uhat) \n",
    "    N = (length(uhat)-1) ÷ 2\n",
    "    return real( sum(uhat[k+N+1] * exp(im * x * k) for k = -N:N) )\n",
    "end\n",
    "\n",
    "NN = [4, 8, 12, 16, 20, 24, 28]\n",
    "xe = range(-π, π, length=1000)\n",
    "f_ex = f.(xe)\n",
    "err_max = zeros(length(NN))\n",
    "for (i, N) in enumerate(NN)\n",
    "    F̂, _ = compute_fcoeffs(f, N);\n",
    "    fN = eval_trig.(xe, Ref(F̂))\n",
    "    err_max[i] = norm(f_ex - fN, Inf)\n",
    "end\n"
   ]
  },
  {
   "cell_type": "code",
   "execution_count": null,
   "id": "1b6e7576",
   "metadata": {},
   "outputs": [],
   "source": [
    "plot(NN, err_max; lw=3, m=:o, ms=5, label = L\"\\|f - \\Pi_N f\\|_\\infty\",\n",
    "    yscale = :log10, xscale = :identity, xlabel = L\"N\", \n",
    "    size = (400, 300))\n",
    "plot!(NN[4:end], exp.(-α * NN[4:end]); lw=2, ls=:dash, c = :black, \n",
    "        label = L\"e^{-\\alpha N}\")"
   ]
  },
  {
   "cell_type": "code",
   "execution_count": null,
   "id": "476f07a2",
   "metadata": {},
   "outputs": [],
   "source": []
  }
 ],
 "metadata": {
  "kernelspec": {
   "display_name": "Julia 1.10.4",
   "language": "julia",
   "name": "julia-1.10"
  },
  "language_info": {
   "file_extension": ".jl",
   "mimetype": "application/julia",
   "name": "julia",
   "version": "1.10.4"
  }
 },
 "nbformat": 4,
 "nbformat_minor": 5
}
