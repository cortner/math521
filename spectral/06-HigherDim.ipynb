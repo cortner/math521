{
 "cells": [
  {
   "cell_type": "code",
   "execution_count": null,
   "id": "854de806",
   "metadata": {},
   "outputs": [],
   "source": [
    "using Pkg; Pkg.activate(\".\")\n",
    "using Plots, LinearAlgebra, LaTeXStrings, ForwardDiff\n",
    "include(\"tools.jl\")"
   ]
  },
  {
   "cell_type": "markdown",
   "id": "22e6d280",
   "metadata": {},
   "source": [
    "## Fourier Spectral Methods in d > 1\n",
    "\n",
    "We start by re-implementing our 1D methods for 2D and 3D: \n",
    "- x grid\n",
    "- k grid \n",
    "- trigonometric interpolant \n",
    "- evaluation of the trig interp on a finer grid"
   ]
  },
  {
   "cell_type": "code",
   "execution_count": null,
   "id": "a55c752b",
   "metadata": {},
   "outputs": [],
   "source": [
    "\n",
    "\"\"\"\n",
    "Given a one-dimensional array y, return d d-dimensional arrays \n",
    " y ⊗ 1 ⊗ ... ⊗ 1   (x1-coordinate)\n",
    " 1 ⊗ y ⊗ 1 ⊗ ...   (x2-coordinate)\n",
    "... \n",
    " 1 ⊗ ... ⊗ 1 ⊗ y   (xd-coordinate)\n",
    "\"\"\"\n",
    "function tensorgrid(d, x1)\n",
    "    dims = ntuple(i -> length(x1), d)\n",
    "    X = reshape(x1 * ones(Bool, length(x1)^(d-1))', dims)\n",
    "    pdim(i, d) = (dd = collect(1:d); dd[1] = i; dd[i] = 1; tuple(dd...))\n",
    "    return ntuple(i -> permutedims(X, pdim(i,d)), d)\n",
    "end\n",
    "\n",
    "\"\"\"\n",
    "d-dimensional x grid\n",
    "returns X1, X2, ...\n",
    "\"\"\"\n",
    "xgrid(d, N) = tensorgrid(d, xgrid(N))\n",
    "\n",
    "\"\"\"\n",
    "d-dimensional k-grid \n",
    "returns K1, K2, ...\n",
    "\"\"\"\n",
    "kgrid(d, N) = tensorgrid(d, kgrid(N))\n",
    "\n",
    "\n",
    "\"\"\"\n",
    "construct the coefficients of the trigonometric interpolant\n",
    "in d dimensions\n",
    "\"\"\"\n",
    "function triginterp_fft(f::Function, N, d::Integer)\n",
    "    XX = xgrid(d, N)\n",
    "    # nodal values at interpolation nodes\n",
    "    F = f.(XX...) \n",
    "    return fft(F) / (2*N)^d\n",
    "end \n",
    "\n",
    "function evaltrig_grid(F̂::AbstractArray{T, 2}, M::Integer) where {T}\n",
    "    N = size(F̂, 1) ÷ 2;\n",
    "    @assert size(F̂) == (2*N, 2*N)\n",
    "    @assert M >= N\n",
    "    F̂_M = zeros(ComplexF64, (2*M, 2*M)) \n",
    "    kk1 = 1:N; kk2 = N+1:2*N; kk3 = 2*M-N+1:2*M\n",
    "    F̂_M[kk1, kk1] .= F̂[kk1, kk1]\n",
    "    F̂_M[kk1, kk3] .= F̂[kk1, kk2]\n",
    "    F̂_M[kk3, kk1] .= F̂[kk2, kk1] \n",
    "    F̂_M[kk3, kk3] .= F̂[kk2, kk2]\n",
    "    x = xgrid(M) \n",
    "    Fx = real.(ifft(F̂_M) * (2*M)^2)\n",
    "    return Fx, x\n",
    "end"
   ]
  },
  {
   "cell_type": "code",
   "execution_count": null,
   "id": "8d44dd19",
   "metadata": {},
   "outputs": [],
   "source": [
    "N = 2 \n",
    "F̂ = randn(2*N, 2*N)\n",
    "x = xgrid(N)\n",
    "F = real.(ifft(F̂)*(2*N)^2)\n",
    "surface(x, x, F; size=(400,300), colorbar=nothing)"
   ]
  },
  {
   "cell_type": "code",
   "execution_count": null,
   "id": "4c8c6112",
   "metadata": {},
   "outputs": [],
   "source": [
    "M = 32 \n",
    "FM, x = evaltrig_grid(F̂, M)\n",
    "surface(x, x, FM; size=(400,300), colorbar=nothing)"
   ]
  },
  {
   "cell_type": "markdown",
   "id": "b901b25c",
   "metadata": {},
   "source": [
    "### Approximation Rates \n",
    "\n",
    "We will explore approximation rates for a simple generalization of the periodic witch of agnesi: \n",
    "$$\n",
    "f(x_1, \\dots, x_d) = \\frac{1}{1 + c^2 \\sum_{t = 1}^d \\sin^2(x_t)}\n",
    "$$\n",
    "But to make things a bit clearer, we change it slightly to \n",
    "$$\n",
    "f(x_1, \\dots, x_d) = \\frac{1}{1 + c^2 \\sum_{t = 1}^d \\sin^2(x_t/2-\\pi/2)}\n",
    "= \\frac{1}{1+ c^2/2 \\sum_{t=1}^d \\cos(x_t)}\n",
    "$$\n",
    "This ensures that there is just a single peak in the center of the domain $[0, 2\\pi)^d$. In the rewriting we used that $\\sin^2(x/2) = \\frac12 - \\frac12 \\cos(x)$ and $\\cos(x-\\pi) = -\\cos(x)$."
   ]
  },
  {
   "cell_type": "markdown",
   "id": "4a69d6fc",
   "metadata": {},
   "source": [
    "### Two Dimensions"
   ]
  },
  {
   "cell_type": "code",
   "execution_count": null,
   "id": "c6c77fa8",
   "metadata": {},
   "outputs": [],
   "source": [
    "f2_fun, α = let c = 4.0\n",
    "    ( (x1, x2) -> 1/(1 + 0.5*c^2 * (2 + cos(x1) + cos(x2))) ), 2*asinh(1/c)\n",
    "end "
   ]
  },
  {
   "cell_type": "code",
   "execution_count": null,
   "id": "e2ec4a3d",
   "metadata": {},
   "outputs": [],
   "source": [
    "# plot the target function\n",
    "N = 64; \n",
    "X1, X2 = xgrid(2, N)\n",
    "F = f2_fun.(X1, X2)\n",
    "x = xgrid(N)\n",
    "surface(x, x, F; size=(400,300), colorbar=nothing)"
   ]
  },
  {
   "cell_type": "code",
   "execution_count": null,
   "id": "2d857d36",
   "metadata": {},
   "outputs": [],
   "source": [
    "D = 2  # dimension\n",
    "NN = 8:8:64\n",
    "\n",
    "# Target funtion on a fine grid\n",
    "Ne = 256\n",
    "X1e, X2e = xgrid(D, Ne)\n",
    "FM_e = f2_fun.(X1e, X2e)\n",
    "\n",
    "errs = Float64[]\n",
    "for N in NN \n",
    "    F̂ = triginterp_fft(f2_fun, N, D)\n",
    "    FN_e, x = evaltrig_grid(F̂, Ne)\n",
    "    err_N = norm(FM_e[:] - FN_e[:], Inf)\n",
    "    push!(errs, err_N)\n",
    "end\n"
   ]
  },
  {
   "cell_type": "code",
   "execution_count": null,
   "id": "3bd2f67b",
   "metadata": {},
   "outputs": [],
   "source": [
    "plot(NN, errs, m=:o, lw=3, \n",
    "        yscale = :log10, label = \"error\", \n",
    "        size = (400, 250), )\n",
    "plot!([30,50], 10 * exp.(- α * [30, 50]), \n",
    "        lw=2, ls=:dash, c=:black, \n",
    "        label = L\"e^{-\\alpha N}\")"
   ]
  },
  {
   "cell_type": "markdown",
   "id": "b2e93a85",
   "metadata": {},
   "source": [
    "### Three Dimensions\n",
    "\n",
    "Nothing really changes except the increasing cost of the computations in 3D. The following code snippets can give a starting point for implementing some 3-dimensional codes. "
   ]
  },
  {
   "cell_type": "code",
   "execution_count": null,
   "id": "6c9205fe",
   "metadata": {},
   "outputs": [],
   "source": [
    "function evaltrig_grid(F̂::AbstractArray{T, 3}, M::Integer) where {T}\n",
    "    N = size(F̂, 1) ÷ 2;\n",
    "    @assert size(F̂) == (2*N, 2*N, 2*N)\n",
    "    @assert M >= N\n",
    "    F̂_M = zeros(ComplexF64, (2*M, 2*M, 2*M))\n",
    "    kk1 = 1:N; kk2 = N+1:2*N; kk3 = 2*M-N+1:2*M\n",
    "    F̂_M[kk1, kk1, kk1] .= F̂[kk1, kk1, kk1]\n",
    "    F̂_M[kk1, kk1, kk3] .= F̂[kk1, kk1, kk2]\n",
    "    F̂_M[kk1, kk3, kk1] .= F̂[kk1, kk2, kk1]\n",
    "    F̂_M[kk1, kk3, kk3] .= F̂[kk1, kk2, kk2]\n",
    "    F̂_M[kk3, kk1, kk1] .= F̂[kk2, kk1, kk1]\n",
    "    F̂_M[kk3, kk1, kk3] .= F̂[kk2, kk1, kk2]\n",
    "    F̂_M[kk3, kk3, kk1] .= F̂[kk2, kk2, kk1]\n",
    "    F̂_M[kk3, kk3, kk3] .= F̂[kk2, kk2, kk2]\n",
    "    x = xgrid(M) \n",
    "    Fx = real.(ifft(F̂_M) * (2*M)^3)\n",
    "    return Fx, x\n",
    "end"
   ]
  },
  {
   "cell_type": "code",
   "execution_count": null,
   "id": "e931c248",
   "metadata": {},
   "outputs": [],
   "source": [
    "f3_fun, α = let c = 4.0\n",
    "    ( (x1, x2, x3) -> 1 / (1 + \n",
    "        0.5*c^2 * (3+cos(x1)+cos(x2)+cos(x3)))), 2*asinh(1/c)\n",
    "end "
   ]
  },
  {
   "cell_type": "code",
   "execution_count": null,
   "id": "d85135cf",
   "metadata": {},
   "outputs": [],
   "source": [
    "D = 3  # dimension\n",
    "NN = 4:4:32   # grid sizes\n",
    "\n",
    "# Target function on a fine grid\n",
    "# Note: 256^3 = 2^24 > 10^7 grid points!!\n",
    "Ne = 128   \n",
    "X1e, X2e, X3e = xgrid(D, Ne)\n",
    "FM_e = f3_fun.(X1e, X2e, X3e)\n",
    "\n",
    "errs = Float64[]\n",
    "for N in NN \n",
    "    X1, X2, X3 = xgrid(D, N)\n",
    "    F̂ = triginterp_fft(f3_fun, N, D)\n",
    "    FN_e, x = evaltrig_grid(F̂, Ne)\n",
    "    err_N = norm(FM_e[:] - FN_e[:], Inf)\n",
    "    push!(errs, err_N)\n",
    "end\n"
   ]
  },
  {
   "cell_type": "code",
   "execution_count": null,
   "id": "3ad32fe5",
   "metadata": {},
   "outputs": [],
   "source": [
    "plot(NN, errs, m=:o, lw=3, \n",
    "        yscale = :log10, label = \"error\", \n",
    "        size = (400, 250), )\n",
    "plot!([16,30], 10 * exp.(- α * [16, 30]), \n",
    "        lw=2, ls=:dash, c=:black, \n",
    "        label = L\"e^{-\\alpha N}\")"
   ]
  },
  {
   "cell_type": "markdown",
   "id": "b0c8124f",
   "metadata": {},
   "source": [
    "---"
   ]
  },
  {
   "cell_type": "markdown",
   "id": "f33c4322",
   "metadata": {},
   "source": [
    "### PDE Example 1: Elliptic Problem\n",
    "\n",
    "$$\n",
    " - \\Delta u + u = f \\quad \\text{with PBC}\n",
    "$$\n",
    "Transform to reciprocal space: \n",
    "$$\n",
    "   (|k|_2^2 + 1) \\hat{u}_k = \\hat{f}_k\n",
    "$$\n",
    "After replacing $f$ with $I_N f$, with Fourier coefficients $\\hat{F}_k$, we obtain the coefficients of the plane wave solution \n",
    "$$\n",
    "   \\hat{U}_k = \\frac{\\hat{F}_k}{1 + |k|_2^2}, \n",
    "   \\quad k = (k_1, \\dots, k_d), k_t = -N+1, \\dots, N.\n",
    "$$"
   ]
  },
  {
   "cell_type": "code",
   "execution_count": null,
   "id": "392dd632",
   "metadata": {},
   "outputs": [],
   "source": [
    "D = 2\n",
    "N = 16\n",
    "\n",
    "F̂ = triginterp_fft(f2_fun, N, D)\n",
    "k1, k2 = kgrid(D, N)\n",
    "Û = F̂ ./ (1 .+ k1.^2 + k2.^2)\n",
    "Up, xp = evaltrig_grid(Û, 64)\n",
    "\n",
    "surface(xp, xp, Up; colorbar = false, size = (400, 300))"
   ]
  },
  {
   "cell_type": "markdown",
   "id": "2d55b635",
   "metadata": {},
   "source": [
    "For the error analysis we could use the method of manufactured solutions, but we use a different approach this time. We simply solve on a much finer grid. Suppose the fine-grid solution is with $N_e$, and the the error for grid size $N$ is $\\epsilon(N)$. Then we get \n",
    "$$\n",
    " \\| u - u_N\\|  - \\|u - u_{N_e}\\|  \\leq   \\| u_N - u_{N_e} \\| \\leq \\| u - u_{N} \\| + \\|u - u_{N_e}\\| \n",
    "$$\n",
    "If $\\epsilon(N_e) \\leq \\theta \\epsilon(N)$ with some $\\theta < 1$ then we obtain \n",
    "$$\n",
    " (1 - \\theta) \\| u - u_N \\| \\leq  \\| u_N - u_{N_e} \\| \\leq (1+\\theta) \\| u - u_N \\|.\n",
    "$$\n",
    "In simple situations where this assumption can be guaranteed, this is therefore a reliable approach. In general one must be very careful. "
   ]
  },
  {
   "cell_type": "code",
   "execution_count": null,
   "id": "838e5476",
   "metadata": {},
   "outputs": [],
   "source": [
    "f2_fun, α = let c = 4\n",
    "    ( (x1, x2) -> 1/(1 + 0.5*c^2 * (2 + cos(x1) + cos(x2))) ), 2*asinh(1/c)\n",
    "end \n",
    "\n",
    "D = 2\n",
    "NN = 8:8:64\n",
    "Ne = 256\n",
    "\n",
    "# reference solution (Ne, not exact!)\n",
    "F̂e = triginterp_fft(f2_fun, Ne, D)\n",
    "k1, k2 = kgrid(D, Ne)\n",
    "Ûe = F̂e ./ (1 .+ k1.^2 + k2.^2)\n",
    "Ue, _ = evaltrig_grid(Ûe, Ne)\n",
    "\n",
    "# errors \n",
    "errs = Float64[] \n",
    "for N in NN \n",
    "    F̂ = triginterp_fft(f2_fun, N, D)\n",
    "    k1, k2 = kgrid(D, N)\n",
    "    Û = F̂ ./ (1 .+ k1.^2 + k2.^2)\n",
    "    U, _ = evaltrig_grid(Û, Ne)\n",
    "    push!(errs, norm(U[:] - Ue[:], Inf))\n",
    "end \n",
    ";"
   ]
  },
  {
   "cell_type": "code",
   "execution_count": null,
   "id": "bfa74e64",
   "metadata": {},
   "outputs": [],
   "source": [
    "plot(NN, errs, m=:o, lw=3, \n",
    "        yscale = :log10, label = L\"||u - u_N||_\\infty\", \n",
    "        size = (400, 250), xlabel = L\"N\")\n",
    "plot!([30,50], 0.1*exp.(- 1.1*α * [30, 50]), \n",
    "        lw=2, ls=:dash, c=:black, \n",
    "        label = L\"e^{-1.1\\alpha N}\")"
   ]
  },
  {
   "cell_type": "markdown",
   "id": "91736b6a",
   "metadata": {},
   "source": [
    "### PDE Example 2: Transport Problem\n",
    "\n",
    "$$\n",
    "  u_t + {\\bf v} \\cdot \\nabla u = 0 \\qquad \\text{(PBC)}\n",
    "$$\n",
    "where ${\\bf v}$ is a constant vector determining the direction of transport."
   ]
  },
  {
   "cell_type": "code",
   "execution_count": null,
   "id": "ad6ab5f9",
   "metadata": {},
   "outputs": [],
   "source": [
    "function plot_soln(t, x, U)\n",
    "    surface(x, x, U; title = \"t = $(round(t, digits=2))\", \n",
    "            size = (400, 300), \n",
    "            color = :viridis, clims = (-0.3, 1.1), colorbar=false)\n",
    "end\n",
    "\n",
    "# ------------------------------------------\n",
    "# Problem setup\n",
    "N = 32 \n",
    "D = 2 \n",
    "dt = π/(6N) \n",
    "tmax = 32.0\n",
    "v = [0.7, 0.3]\n",
    "u0 = (x1, x2) ->  exp(- 10 * (2+cos(x1)+cos(x2))/2 )\n",
    "#------------------------------------------\n",
    "\n",
    "X1, X2 = xgrid(D, N)\n",
    "x = X1[:,1]\n",
    "K1, K2 = kgrid(D, N)\n",
    "\n",
    "# directional derivative operator in Fourier space \n",
    "VD̂ = im*K1*v[1] + im*K2*v[2]\n",
    "\n",
    "# initial condition, we also need one additional v in the past\n",
    "# (this takes one step of the PDE backward in time)\n",
    "U = u0.(X1, X2)\n",
    "Uold = U + dt * real.( ifft( VD̂ .* fft(U) ) )\n",
    "\n",
    "# time-stepping loop (check errors)\n",
    "tt = 0:dt:tmax\n",
    "errs = Float64[] \n",
    "nrmu2 = Float64[] \n",
    "@gif for t in tt \n",
    "    global U, Uold, VD̂, X1, X2, v, nrmu2\n",
    "    # differentiation in reciprocal space\n",
    "    W = real.( ifft( VD̂ .* fft(U) ) )\n",
    "    # multiplication and update in real space\n",
    "    U, Uold = Uold - 2 * dt * W, U\n",
    "    # check error \n",
    "    Ue = u0.(X1 .- v[1]*t, X2 .- v[2]*t)\n",
    "    push!(errs, norm(U[:] - Ue[:], Inf))\n",
    "    push!(nrmu2, norm(U[:])^2 / (2*N)^2)\n",
    "    # plot snapshot \n",
    "    plot_soln(t, x, U)\n",
    "end every 10"
   ]
  },
  {
   "cell_type": "code",
   "execution_count": null,
   "id": "092163d8",
   "metadata": {},
   "outputs": [],
   "source": [
    "p1 = plot(tt, errs, lw=2, label = L\"||u_N(t) - u(t)||_\\infty\")\n",
    "plot!(tt, dt .+ dt^2 * tt, lw=2, ls=:dash, label = L\"\\Delta t + t \\Delta t^2\")\n",
    "p2 = plot(tt, abs.(nrmu2 .- nrmu2[1]), label = L\"\\|U(t)\\|_2^2\")\n",
    "plot(p1, p2, layout = (2,1))"
   ]
  },
  {
   "cell_type": "code",
   "execution_count": null,
   "id": "cd74e650",
   "metadata": {},
   "outputs": [],
   "source": []
  }
 ],
 "metadata": {
  "kernelspec": {
   "display_name": "Julia 1.10.4",
   "language": "julia",
   "name": "julia-1.10"
  },
  "language_info": {
   "file_extension": ".jl",
   "mimetype": "application/julia",
   "name": "julia",
   "version": "1.10.4"
  }
 },
 "nbformat": 4,
 "nbformat_minor": 5
}
