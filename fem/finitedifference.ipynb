{
 "cells": [
  {
   "cell_type": "markdown",
   "metadata": {},
   "source": [
    "# Finite Difference Methods (An Aside)\n",
    "\n",
    "Finite-difference methods are perfectly adequate (sometimes excellent) \n",
    "methods for many PDEs. They are easy to implement, and can be rigorously \n",
    "analyzed just as finite element methods. This notebook is intended to \n",
    "show some simple examples. One difficulty with FD methods is that they become \n",
    "much more difficult to use when we go beyond those examples, whereas FEMs \n",
    "are often more flexible and can be more easily adapted to complex real-world\n",
    "scenarios. "
   ]
  },
  {
   "cell_type": "code",
   "execution_count": null,
   "metadata": {},
   "outputs": [],
   "source": [
    "using Pkg; Pkg.activate(\".\")"
   ]
  },
  {
   "cell_type": "code",
   "execution_count": null,
   "metadata": {},
   "outputs": [],
   "source": [
    "using LinearAlgebra, Plots, SparseArrays"
   ]
  },
  {
   "cell_type": "markdown",
   "metadata": {},
   "source": [
    "## Example 1: Poisson's Equation on the Unit Interval\n",
    "\n",
    "We wish to solve\n",
    "$$\n",
    "\\begin{aligned}\n",
    "      - u'' &= f, \\qquad x \\in (0, 1), \\\\ \n",
    "   u &= 0, \\qquad x = 0, 1.\n",
    "\\end{aligned}\n",
    "$$\n",
    "via a centered finite difference scheme. We take $N+1$ grid points $x_n = nh$, $h = 1/N$, let $U_n \\approx u(x_n)$ and then discretize the DE as \n",
    "$$ \n",
    "    - \\frac{U_{n+1} - 2 U_n + U_{n-1}}{h^2} = F_n, \\qquad n = 1, \\dots, N-1,\n",
    "$$\n",
    "where $F_n = f(x_n)$, while imposing the b.c. as $U_0 = U_N = 0$. This is readily implemented as follows:\n"
   ]
  },
  {
   "cell_type": "code",
   "execution_count": null,
   "metadata": {},
   "outputs": [],
   "source": [
    "N = 10;\n",
    "f = x -> 1.0 \n",
    "\n",
    "# grid \n",
    "X = range(0, 1, N+1); \n",
    "\n",
    "# grid functions F and U \n",
    "F = f.(X)\n",
    "U = zeros(N+1) \n",
    "\n",
    "# one-line implementation of the centered finite difference operator\n",
    "L1d(N) = Tridiagonal(-N^2 * ones(N-2), 2*N^2*ones(N-1), -N^2*ones(N-2));\n",
    "\n",
    "# solve the finite-difference equation\n",
    "U[2:N] = L1d(N) \\ F[2:N]\n",
    "\n",
    "# and plot the result \n",
    "xp = range(0, 1, length=100)\n",
    "plot(xp, 0.5 * xp .* (1 .- xp), lw = 2, label = \"exact soln\")\n",
    "plot!(X, U, lw=0, m=:o, ms=6, label = \"FD soln\", size = (400,250))"
   ]
  },
  {
   "cell_type": "markdown",
   "metadata": {},
   "source": [
    "## Example 2: Poisson's Equation on the Unit Square\n",
    "\n",
    "We can easily extend this to dimension > 1. Let $\\Omega = (0, 1)^2$ then we solve\n",
    "$$\n",
    "\\begin{aligned}\n",
    " - \\Delta u = - u_{xx} - u_{yy} &= f, \\qquad \\Omega, \\\\ \n",
    "   u &= 0, \\qquad \\partial\\Omega\n",
    "\\end{aligned}\n",
    "$$\n",
    "via a 5-point centered finite difference scheme: We take $N+1$ grid points in each coordinate direction ... \n"
   ]
  },
  {
   "cell_type": "code",
   "execution_count": null,
   "metadata": {},
   "outputs": [],
   "source": [
    "N = 10; x = range(0, 1, N+1); o = ones(N+1); \n",
    "scatter((x*o')[:], (o*x')[:], c=:black, ms=5, aspect_ratio=:equal, legend=false, \n",
    "        grid=false, ticks=false, border=:none, size = (250, 250))"
   ]
  },
  {
   "cell_type": "markdown",
   "metadata": {},
   "source": [
    "... let $h = 1/N$, we think of the grid function $U_{nm} \\approx u(hn, hm)$ and then determine $U$ by solving the linear system \n",
    "$$\n",
    "\\begin{aligned}\n",
    "  - \\frac{U_{n+1,m}+U_{n-1,m}+U_{n,m+1}+U_{n,m-1} - 4 U_{nm}}{h^2} &= F_{nm}, \\qquad n, m = 1, \\dots, N-1, \\\\ \n",
    "  U_{nm} &= 0, \\qquad n = 0, N \\text{ or } m = 0, N.\n",
    "\\end{aligned}\n",
    "$$\n",
    "and where $F_{nm} = f(hn, hm)$. Here, we can observe a key difference between FD and FE methods. FD methods are specified in terms of functions on grids - i.e. the solution is only defined on grid points. By contrast, FE methods start by defining approximation spaces of continuous functions i.e. functions that are themselves trial functions for the equation under consideration. \n",
    "\n",
    "The following implementation exploits the fact that $\\Omega$ is a tensor product domain and that the laplacian operator can be written as a sum of tensor products as well, \n",
    "$$\n",
    "   \\partial_{xx} + \\partial_{yy} = D^2 \\otimes I + I \\otimes D^2,\n",
    "$$\n",
    "where $D$ is the univariate derivative operator. This also translates to the finite-difference operator. "
   ]
  },
  {
   "cell_type": "code",
   "execution_count": null,
   "metadata": {},
   "outputs": [],
   "source": [
    "# This is a very naive but short implementation of the 5-point FD \n",
    "# (neg.) laplacian on an equispaced grid with N+1 gridpoints in each coord.\n",
    "Id(N) = sparse(I, (N-1,N-1))\n",
    "L2d(N) = sparse(kron(L1d(N), Id(N)) + kron(Id(N), L1d(N)));"
   ]
  },
  {
   "cell_type": "code",
   "execution_count": null,
   "metadata": {},
   "outputs": [],
   "source": [
    "# solve `- Δu = 1` on the unit square with homogeneous Dirichlet b.c.\n",
    "N = 20\n",
    "F = ones((N-1)^2)\n",
    "L = L2d(N)\n",
    "U = L \\ F;   # solution at interior gridpoints"
   ]
  },
  {
   "cell_type": "code",
   "execution_count": null,
   "metadata": {},
   "outputs": [],
   "source": [
    "# postprocess: add the boundary condition, then plot\n",
    "U0 = zeros(N+1, N+1)\n",
    "U0[2:end-1, 2:end-1] = reshape(U, N-1, N-1)\n",
    "x = y = range(0, 1, length=N+1)\n",
    "surface(x, y, U0, xlabel=\"x\", ylabel=\"y\", zlabel=\"u(x,y)\", \n",
    "        title=\"Solution to -Δu = 1 on the unit square\", \n",
    "        c = :viridis)\n"
   ]
  },
  {
   "cell_type": "markdown",
   "metadata": {},
   "source": [
    "## Finite Difference Method on a More Complex Domain\n",
    "\n"
   ]
  },
  {
   "cell_type": "code",
   "execution_count": null,
   "metadata": {},
   "outputs": [],
   "source": [
    "function lshape(N)\n",
    "   @assert iseven(N) \n",
    "   # the domain is defined by coloring the grid points. Start will all false.  \n",
    "   Ω = fill(false, (N+2, N+2))\n",
    "   # fill in the \"domain\" with true\n",
    "   n0 = 2; n1 = N÷2+1; n2 = n1+1; n3 = N+1 \n",
    "   Ω[n0:n3,n0:n3] .= true; Ω[n0:n1,n2:n3] .= false\n",
    "   return Ω\n",
    "end\n",
    "\n",
    "# generate a mesh for demonstration\n",
    "Ω = lshape(8)"
   ]
  },
  {
   "cell_type": "code",
   "execution_count": null,
   "metadata": {},
   "outputs": [],
   "source": [
    "function fdlaplacian(Ω) \n",
    "   # construct the laplacian on the extended grid (square)\n",
    "   M, N = size(Ω)\n",
    "   Δ = kron(Id(M+1), L1d(N+1)) + kron(L1d(M+1), Id(N+1))\n",
    "   # return the restriction to the coloured grid points\n",
    "   nonz = findall(isequal(true), Ω[:])\n",
    "   return sparse(Δ[nonz, nonz]), nonz\n",
    "end\n"
   ]
  },
  {
   "cell_type": "code",
   "execution_count": null,
   "metadata": {},
   "outputs": [],
   "source": [
    "# solve the finite different problem \n",
    "# again we are solving only for the interior grid points (DoFs)\n",
    "N = 30\n",
    "L, nonz = fdlaplacian(lshape(N))\n",
    "U = L \\ ones(size(L, 1));  "
   ]
  },
  {
   "cell_type": "code",
   "execution_count": null,
   "metadata": {},
   "outputs": [],
   "source": [
    "# post process by writing the interior nodes into a larger \n",
    "# grid function \n",
    "U0 = zeros(N+2, N+2)\n",
    "U0[nonz] .= U\n",
    "x = y = range(0, 1, length=N+2)\n",
    "surface(x, y, U0, xlabel=\"x\", ylabel=\"y\", zlabel=\"u(x,y)\", \n",
    "         title=\"Solution to -Δu = 1 on L-shape\",\n",
    "         camera=(20, 30), c=:viridis, size = (400, 400))\n"
   ]
  },
  {
   "cell_type": "code",
   "execution_count": null,
   "metadata": {},
   "outputs": [],
   "source": [
    "# And maybe while we are plotting, also a nice contour plot? \n",
    "\n",
    "contour(x, y, U0, xlabel=\"x\", ylabel=\"y\", zlabel=\"u(x,y)\", \n",
    "         title=\"Solution to -Δu = 1 on L-shape\", lw = 3, \n",
    "         c = :viridis, levels = 20, colorbar = false, \n",
    "         aspect_ratio=:equal, grid=false, border=:box, \n",
    "         xticks = 0.0:0.2:1.0, yticks = 0.0:0.2:1.0, size = (300, 300))"
   ]
  },
  {
   "cell_type": "markdown",
   "metadata": {},
   "source": [
    "### Final remarks\n",
    "\n",
    "Clearly we can generalize the above implementation in a few ways, but even for slightly more complex geometries the approach introduces large errors. For example if the angle in the \"hole\" is not 90 degrees, but - say - 78 deg, then the boundary is no longer exactly represented which introduces potentially large solution errors. One can then use coordinate transformations to a simpler domain. This makes the implementation quite a bit more complex. And for much more complex domains such simple techniques can no longer be applied at all. This is one of the scenarios (but not the only one) where finite element methods have a significant advantage. "
   ]
  }
 ],
 "metadata": {
  "kernelspec": {
   "display_name": "Julia 1.10.4",
   "language": "julia",
   "name": "julia-1.10"
  },
  "language_info": {
   "file_extension": ".jl",
   "mimetype": "application/julia",
   "name": "julia",
   "version": "1.10.4"
  }
 },
 "nbformat": 4,
 "nbformat_minor": 2
}
