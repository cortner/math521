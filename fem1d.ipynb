{
 "cells": [
  {
   "cell_type": "markdown",
   "metadata": {
    "slideshow": {
     "slide_type": "subslide"
    }
   },
   "source": [
    "# Demo Implementation of FEM in 1D\n",
    "\n",
    "This notebook implements an example of a FEM in 1D, following the course notes, for the BVP \n",
    "$$\n",
    "  - u'' = f, \\quad x \\in (0, 1), \\qquad u(0) = u(1) = 0. \n",
    "$$\n",
    "The FE space / approximation space is defined as \n",
    "$$\n",
    "   V_h = \\{ v_h \\in C([0, 1]) : \\text{p.w. affine w.r.t. } (x_i)_i, v_h(0) = v_h(1) = 0 \\}\n",
    "$$\n",
    "where $x_0 < x_1 < \\dots < x_N$ is the grid, and the FEM in variational form as \n",
    "$$ \n",
    "   \\int u_h' v_h' dx = \\int f v_h dx \\qquad \\forall v_h \\in V_h. \n",
    "$$\n",
    "After expanding \n",
    "$$ \n",
    "   u_h = \\sum_i U_i \\psi_i, \\qquad v_h = \\sum_i V_i \\psi_i, \n",
    "$$\n",
    "we obtain, equivalently, \n",
    "$$ \n",
    "\\begin{aligned} \n",
    "     V^T A U &= V^T F \\qquad \\forall V \\in \\mathbb{R}^{N-1} \\\\ \n",
    "     A_{ij} &= \\int \\psi_j' \\psi_i' dx   \\\\ \n",
    "     F_j &= \\int f \\psi_j dx\n",
    "\\end{aligned}\n",
    "$$\n",
    "and this can be solved via \n",
    "$$\n",
    "    A U = F. \n",
    "$$"
   ]
  },
  {
   "cell_type": "code",
   "execution_count": null,
   "metadata": {
    "slideshow": {
     "slide_type": "subslide"
    }
   },
   "outputs": [],
   "source": [
    "using Pkg; Pkg.activate(\".\")\n",
    "using LinearAlgebra, Plots, SparseArrays"
   ]
  },
  {
   "cell_type": "code",
   "execution_count": null,
   "metadata": {},
   "outputs": [],
   "source": [
    "\"\"\"\n",
    "Assemble the FE system, i.e. the matrix A and the vector F, using mid-point quadrature to evaluate F_j. \n",
    "\n",
    "Inputs: \n",
    "- `X` : a vector of grid points, [x0, x1, ...]\n",
    "- `f` : the function f defining the right-hand side of the BVP.\n",
    "\"\"\"\n",
    "function assemble(X, f)\n",
    "   N = length(X)-1 \n",
    "   # allocate arrays for the system matrix A and RHS F. \n",
    "   # For A we should use a sparse datastructure - we will do this later.\n",
    "   F = zeros(N+1)\n",
    "   A = zeros(N+1, N+1)  \n",
    "    \n",
    "   # FE assembly works as a loop over elements (xᵢ, xᵢ₊₁) \n",
    "   # (note the 1-based indexing)\n",
    "   for i = 1:N \n",
    "      hᵢ = X[i+1] - X[i]\n",
    "      # use midpoint quadrature to assemble rhs \n",
    "      # ( note that ψᵢ(ξᵢ) = ψᵢ₊₁ = 0.5 )\n",
    "      ξᵢ = (X[i+1] + X[i])/2\n",
    "      F[i] += hᵢ * f(ξᵢ) * 0.5 \n",
    "      F[i+1] += hᵢ * f(ξᵢ) * 0.5\n",
    "      # assemble stiffness matrix, for derivation see class notes.\n",
    "      A[i,i] += 1/hᵢ\n",
    "      A[i,i+1] += -1/hᵢ\n",
    "      A[i+1,i] += -1/hᵢ\n",
    "      A[i+1,i+1] += 1/hᵢ\n",
    "   end\n",
    "   \n",
    "   # we assembled A a dense, now convert it to sparse \n",
    "   # for efficient solution of the linear system\n",
    "   return sparse(A), F \n",
    "end\n"
   ]
  },
  {
   "cell_type": "code",
   "execution_count": null,
   "metadata": {},
   "outputs": [],
   "source": [
    "# define a problem with f(x) = 1, 11 gridpoints.\n",
    "N = 10 \n",
    "f = x -> 1 \n",
    "\n",
    "# solve\n",
    "X = range(0, 1, length = N+1) \n",
    "A, F = assemble(X, f)\n",
    "U = zeros(N+1)\n",
    "U[2:end-1] = A[2:end-1, 2:end-1] \\ F[2:end-1]; "
   ]
  },
  {
   "cell_type": "code",
   "execution_count": null,
   "metadata": {},
   "outputs": [],
   "source": [
    "# plotting should be done in a separate cell. Here, for \n",
    "# 1D it doesn't matter, but sometimes the solution can take \n",
    "# a long time and should be done only once, the plotting is then \n",
    "# part of the post-processing.\n",
    "\n",
    "xp = range(0, 1, length = 1000)\n",
    "plot(xp, xp .* (1 .- xp)/2, lw=3, label = \"exact\", size=(400, 300))\n",
    "plot!(X, U, lw=2, m=:o, label = \"FEM\") "
   ]
  },
  {
   "cell_type": "code",
   "execution_count": null,
   "metadata": {},
   "outputs": [],
   "source": [
    "# The system matrix is just the standard centered FD operator!\n",
    "A"
   ]
  },
  {
   "cell_type": "code",
   "execution_count": null,
   "metadata": {},
   "outputs": [],
   "source": [
    "# The code works without changes with an irregular grid\n",
    "Xirreg = collect(X)\n",
    "Xirreg[2:N] += 0.66/N * (rand(N-1) .- 0.5)\n",
    "A, F = assemble(Xirreg, f)\n",
    "U = zeros(N+1)\n",
    "U[2:end-1] = A[2:end-1, 2:end-1] \\ F[2:end-1]\n",
    "plot(xp, xp .* (1 .- xp)/2, lw=3, label = \"exact\", size=(400, 300))\n",
    "\n",
    "plot!(Xirreg, U, lw=2, m=:o, label = \"FEM\") "
   ]
  },
  {
   "cell_type": "code",
   "execution_count": null,
   "metadata": {},
   "outputs": [],
   "source": []
  }
 ],
 "metadata": {
  "kernelspec": {
   "display_name": "Julia 1.10.4",
   "language": "julia",
   "name": "julia-1.10"
  },
  "language_info": {
   "file_extension": ".jl",
   "mimetype": "application/julia",
   "name": "julia",
   "version": "1.10.4"
  }
 },
 "nbformat": 4,
 "nbformat_minor": 2
}
