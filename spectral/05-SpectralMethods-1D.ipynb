{
 "cells": [
  {
   "cell_type": "code",
   "execution_count": null,
   "id": "aacdae15",
   "metadata": {},
   "outputs": [],
   "source": [
    "using Pkg; Pkg.activate(\".\")\n",
    "using Plots, LinearAlgebra, LaTeXStrings, ForwardDiff\n",
    "include(\"tools.jl\")"
   ]
  },
  {
   "cell_type": "markdown",
   "id": "08b0f512",
   "metadata": {},
   "source": [
    "# Fourier Spectral Methods (1D)\n",
    "\n",
    "## Revise Motivating Example \n",
    "\n",
    "We return to the boundary value problem with periodic boundary conditions: \n",
    "$$\n",
    "\\begin{aligned}\n",
    "  - u'' + u &= f, \\quad x \\in (-\\pi, \\pi), \\\\ \n",
    "  u(-\\pi) &= u(\\pi), \\\\ \n",
    "  u'(-\\pi) &= u'(\\pi)\n",
    "\\end{aligned}\n",
    "$$\n"
   ]
  },
  {
   "cell_type": "code",
   "execution_count": null,
   "id": "2b26d0aa",
   "metadata": {},
   "outputs": [],
   "source": [
    "# (1) let's take our periodic agnesi example as f\n",
    "f_fun, α = let c = 3\n",
    "    (x -> 1 / (1 + c^2 * sin(x)^2)), asinh(1/c)\n",
    "end\n",
    "\n",
    "# (2) before we constructed the projection, now we use the \n",
    "#     trigonometric interpolant \n",
    "N = 10\n",
    "F̂ = triginterp_fft(f_fun, N)\n",
    "\n",
    "# (3) solve the PDE in reciprocal space\n",
    "#     note Û represents the solution. We are done here!\n",
    "K = kgrid(N)\n",
    "Û = F̂ ./ (1 .+ abs.(K).^2)\n",
    ";"
   ]
  },
  {
   "cell_type": "code",
   "execution_count": null,
   "id": "35d2287f",
   "metadata": {},
   "outputs": [],
   "source": [
    "# (4) To plot the solution we just evaluate it on a \n",
    "# refined grid \n",
    "\n",
    "Up, Xp = evaltrig_grid(Û, N)\n",
    "up, xp = evaltrig_grid(Û, 128)\n",
    "plot(xp, up, lw=3, size=(400, 250), label = \"\")\n",
    "plot!(Xp, Up, lw=0, m=:o, label = \"\")"
   ]
  },
  {
   "cell_type": "code",
   "execution_count": null,
   "id": "0da4810e",
   "metadata": {},
   "outputs": [],
   "source": [
    "# define a known exact solution and compute the resulting f\n",
    "u_ex, α = let c = 3\n",
    "    (x -> 1 / (1 + c^2 * sin(x)^2)), asinh(1/c)\n",
    "end\n",
    "du_ex = x -> ForwardDiff.derivative(u_ex, x)\n",
    "f_fun = x -> u_ex(x) - ForwardDiff.derivative(du_ex, x)\n",
    "\n",
    "function solve_and_err(N; Ne = 1024)\n",
    "    K = kgrid(N)\n",
    "    F̂ = triginterp_fft(f_fun, N)\n",
    "    Û = F̂ ./ (1 .+ K.^2)\n",
    "    Xe = xgrid(Ne); Ue = u_ex.(Xe); ∇Ue = du_ex.(Xe)\n",
    "    U, _ = evaltrig_grid(Û, Ne)\n",
    "    ∇U, _ = evaltrig_grid(im * K .* Û, Ne)\n",
    "    return norm(U - Ue, Inf), norm(∇U - ∇Ue, Inf)\n",
    "end\n",
    "\n",
    "# looking at errors for the spectral method\n",
    "NN = 8:8:128\n",
    "errs = solve_and_err.(NN)\n",
    "errs0 = [e[1] for e in errs]; errs1 = [e[2] for e in errs];"
   ]
  },
  {
   "cell_type": "code",
   "execution_count": null,
   "id": "093f8d84",
   "metadata": {},
   "outputs": [],
   "source": [
    "plot(; size=(400, 300), xscale = :identity, yscale = :log10, \n",
    "         xlabel = L\"N\", ylabel = \"error\")\n",
    "plot!(NN, errs0; lw=3, m=:o, label = L\"|u_N - u|_\\infty\")\n",
    "plot!(NN, errs1; lw=3, m=:o, label = L\"|u_N' - u'|_\\infty\")\n",
    "plot!(NN[4:end-2], 10*exp.(- α * NN[4:end-2]), lw=2, ls=:dash, c= :black, label = L\"e^{-\\alpha N}\")"
   ]
  },
  {
   "cell_type": "markdown",
   "id": "706c1523",
   "metadata": {},
   "source": [
    "### A Transport Problem\n",
    "\n",
    "$$\n",
    "\tu_t + c u_x = 0 \\qquad \\text{+ PBC}\n",
    "$$\n",
    "For now we take $c$ to be constant. Below we will switch to $x$-dependent $c$.\n",
    "\n",
    "First discretise in time using the Leapfrog scheme \n",
    "$$\n",
    "\t\\frac{u^{n+1} - u^{n-1}}{2 \\Delta t} + c (u^n)_x = 0.\n",
    "$$\n",
    "\n",
    "We will also compare this to a finite-difference scheme."
   ]
  },
  {
   "cell_type": "code",
   "execution_count": null,
   "id": "cb28bdfe",
   "metadata": {},
   "outputs": [],
   "source": [
    "function plot_soln(t, X, v, v1h, v2h)\n",
    "    plot( xaxis = ([0, 2*π], ), yaxis = ([-0.1, 1.2],) , size = (400, 250), \n",
    "          legend = :topright, \n",
    "          title = \"t = $(round(t, digits=2))\")\n",
    "    plot!(X, u0.(X .- c*t), lw=6, label = \"exact\")\n",
    "    plot!(X, v, lw=3, label = \"spectral\")\n",
    "    plot!(X, v1h, lw=2, ls=:dash, label = \"upwind\")\n",
    "    plot!(X, v2h, lw=2, ls=:dash, label = \"centered\")\n",
    "end\n",
    "\n",
    "# ------------------------------------------\n",
    "# Problem setup\n",
    "N = 64  \n",
    "dt = π/(6N) \n",
    "tmax = 32.0\n",
    "c = 1.0\n",
    "u0 = x ->  exp(- 10 * (1+cos(x))/2 )\n",
    "#------------------------------------------\n",
    "\n",
    "X = xgrid(N)\n",
    "K = kgrid(N)\n",
    "\n",
    "# differentiation operator in Fourier space \n",
    "D̂ = im*K\n",
    "\n",
    "# initial condition, we also need one additional v in the past\n",
    "# (this takes one step of the PDE backward in time)\n",
    "V = u0.(X)\n",
    "Vold = V + dt * c * real.( ifft( D̂ .* fft(V) ) ) \n",
    "\n",
    "# Setup for the FD Scheme, UPWIND D1 and CENTERED D2\n",
    "h = π/N\n",
    "D1 = collect(Bidiagonal(ones(2*N)/h, -ones(2*N-1)/h, :L))\n",
    "D1[1, 2*N] = -1/h # (PBC)\n",
    "D2 = collect(Tridiagonal(-ones(2*N-1)/(2h), zeros(2*N), ones(2*N-1)/(2h)))\n",
    "D2[1,2*N] = -1/(2h); D2[2*N,1] = 1/(2h)\n",
    "V1h = V; V2h = V; V2hold = Vold   \n",
    "\n",
    "\n",
    "# time-stepping loop\n",
    "@gif for t = 0:dt:tmax\n",
    "    global V, Vold, V1h, V2h, V2hold, D1, D2, D̂\n",
    "    # SPECTRAL \n",
    "    # differentiation in reciprocal space\n",
    "    W = real.( ifft( D̂ .* fft(V) ) )   \n",
    "    # multiplication and update in real space\n",
    "    V, Vold = Vold - 2 * dt * c * W, V\n",
    "\n",
    "    # FINITE-DIFFERENCE\n",
    "    V1h = V1h - dt * c * (D1 * V1h)  # (upwind)\n",
    "    V2h, V2hold = V2hold - 2*dt * c * (D2*V2h), V2h     #(centered)  \n",
    "\n",
    "    plot_soln(t, X, V, V1h, V2h)\n",
    "end every 10\n"
   ]
  },
  {
   "cell_type": "code",
   "execution_count": null,
   "id": "5f0772e8",
   "metadata": {},
   "outputs": [],
   "source": [
    "# plot the final solution again to see the numerical damping and dispersion\n",
    "plot_soln(tmax, X, V, V1h, V2h)"
   ]
  },
  {
   "cell_type": "code",
   "execution_count": null,
   "id": "9bcde189",
   "metadata": {},
   "outputs": [],
   "source": []
  }
 ],
 "metadata": {
  "kernelspec": {
   "display_name": "Julia 1.10.4",
   "language": "julia",
   "name": "julia-1.10"
  },
  "language_info": {
   "file_extension": ".jl",
   "mimetype": "application/julia",
   "name": "julia",
   "version": "1.10.4"
  }
 },
 "nbformat": 4,
 "nbformat_minor": 5
}
