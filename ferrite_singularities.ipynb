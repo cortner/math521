{
 "cells": [
  {
   "cell_type": "code",
   "execution_count": null,
   "metadata": {},
   "outputs": [],
   "source": [
    "using Pkg; Pkg.activate(\".\")\n",
    "using SparseArrays, LinearAlgebra, Ferrite\n",
    "using FerriteViz, WGLMakie, Makie, LaTeXStrings\n",
    "Makie.inline!(true);\n",
    "\n",
    "include(\"ferrite_tools.jl\")\n",
    "include(\"aitken.jl\") "
   ]
  },
  {
   "cell_type": "markdown",
   "metadata": {},
   "source": [
    "In this notebook we will use the code `Ferrite.jl` to solve our simplest model problem, \n",
    "$$\\begin{aligned} \n",
    " - \\Delta u  &= f, \\qquad \\Omega, \\\\ \n",
    "          u &= 0, \\qquad \\partial\\Omega\n",
    "\\end{aligned}$$ \n",
    "In the assignment we will generalize this to some more intersting problems."
   ]
  },
  {
   "cell_type": "code",
   "execution_count": null,
   "metadata": {},
   "outputs": [],
   "source": [
    "grid, ∂Ω = generate_square(20)\n",
    "\n",
    "FerriteViz.wireframe(grid, markersize = 10, strokewidth = 2, \n",
    "                     figure = (resolution=(500,500),))"
   ]
  },
  {
   "cell_type": "code",
   "execution_count": null,
   "metadata": {},
   "outputs": [],
   "source": [
    "# solve the dirichlet problem\n",
    "ffun = ξ -> 5.0\n",
    "k = 1\n",
    "cellvalues, dh, ch, K = setup_fem(k, grid, ∂Ω)\n",
    "u = solve_fem(cellvalues, dh, ch, K, ffun);\n",
    "# visualize the solution\n",
    "plotter = FerriteViz.MakiePlotter(dh, u)\n",
    "fig = FerriteViz.surface(plotter, field=:u, \n",
    "                   figure = (resolution = (700,700,),))"
   ]
  },
  {
   "cell_type": "markdown",
   "metadata": {},
   "source": [
    "We don't know the exact solution in this case. Here is a little trick \n",
    "how we can still look at the error. Instead of plotting the convergence of $\\|u - u_h \\|_{H^1}$ we plot the convergence of $|J(u) - J(u_h)| = \\frac12 \\| u - u_h \\|_{H^1}^2$. To get the reference energy we can extrapolate from the sequence of computed energies. This is a bit dicey with higher-order FEM because the errors get so small. We therefore restrict our tests to P1 and P2."
   ]
  },
  {
   "cell_type": "code",
   "execution_count": null,
   "metadata": {},
   "outputs": [],
   "source": [
    "function compute_energy(k, N, generate_dom, ffun)\n",
    "    grid, ∂Ω = generate_dom(N)\n",
    "    cellvalues, dh, ch, K = setup_fem(k, grid, ∂Ω)\n",
    "    K, f = assemble_global!(cellvalues, dh, K, ξ -> ffun(ξ));\n",
    "    apply!(K, f, ch)\n",
    "    u = K \\ f;\n",
    "    return 0.5 * dot(u, K * u) - dot(u, f)\n",
    "end"
   ]
  },
  {
   "cell_type": "code",
   "execution_count": null,
   "metadata": {},
   "outputs": [],
   "source": [
    "\n",
    "ffun = ξ -> 5.0\n",
    "NN = [4, 8, 16, 32, 64]\n",
    "E = [ [ compute_energy(k, N, generate_square, ffun) for N in NN ]\n",
    "      for k = 1:2 ]\n",
    "Elim = aitken.(E)\n",
    "err = [ abs.(E[i] .- Elim[i]) for i = 1:2 ]\n",
    ";"
   ]
  },
  {
   "cell_type": "code",
   "execution_count": null,
   "metadata": {},
   "outputs": [],
   "source": [
    "# show the convergence of total energy \n",
    "fig = Figure(size = (400, 400); fontsize=30)\n",
    "ax = Axis(fig[1, 1], xlabel = L\"h^{-1}\", ylabel = L\"|E(u) - E(u_h)|\", \n",
    "          xscale = log10, yscale = log10,\n",
    "          title = \"Error P1-FEM\")\n",
    "NN1 = NN[3:5]\n",
    "scatterlines!(NN, err[1]; linewidth=5, markersize=20, label=L\"P1\")\n",
    "scatterlines!(NN, err[2]; linewidth=5, markersize=20, label=L\"P2\")\n",
    "lines!(NN1, 5 ./ NN1.^(2); color=:black, linewidth=3, label=L\"h^2, h^4\") \n",
    "lines!(NN1, 5 ./ NN1.^(4); color=:black, linewidth=3) \n",
    "\n",
    "axislegend(ax)\n",
    "fig"
   ]
  },
  {
   "cell_type": "markdown",
   "metadata": {},
   "source": [
    "Now let's do the same on a more interesting domain, the L-shape $\\Omega = (-1, 1)^2 \\setminus (0, 1)^2$ (actually we are removing a different square but it doesn't really matter."
   ]
  },
  {
   "cell_type": "code",
   "execution_count": null,
   "metadata": {},
   "outputs": [],
   "source": [
    "grid, ∂Ω = generate_lshape(20)\n",
    "\n",
    "FerriteViz.wireframe(grid, markersize = 10, strokewidth = 2, \n",
    "                     figure = (resolution=(500,500),))"
   ]
  },
  {
   "cell_type": "code",
   "execution_count": null,
   "metadata": {},
   "outputs": [],
   "source": [
    "# we can assemble the system\n",
    "ffun = ξ -> 10.0\n",
    "k = 1\n",
    "cellvalues, dh, ch, K = setup_fem(k, grid, ∂Ω)\n",
    "u = solve_fem(cellvalues, dh, ch, K, ffun);\n",
    "# visualize the solution\n",
    "plotter = FerriteViz.MakiePlotter(dh, u)\n",
    "fig = FerriteViz.surface(plotter, field=:u, \n",
    "                   figure = (resolution = (700,700,),))"
   ]
  },
  {
   "cell_type": "code",
   "execution_count": null,
   "metadata": {},
   "outputs": [],
   "source": [
    "\n",
    "ffun = ξ -> 10.0\n",
    "NN = [4, 8, 16, 32, 64, 128, 256]\n",
    "E = [ [ compute_energy(k, N, generate_lshape, ffun) for N in NN ]\n",
    "      for k = 1:2 ]\n",
    "Elim = aitken.(E)\n",
    "err = [ abs.(E[i] .- Elim[i]) for i = 1:2 ];\n"
   ]
  },
  {
   "cell_type": "code",
   "execution_count": null,
   "metadata": {},
   "outputs": [],
   "source": [
    "# show the convergence of total energy \n",
    "fig = Figure(size = (400, 400); fontsize=30)\n",
    "ax = Axis(fig[1, 1], xlabel = L\"h^{-1}\", ylabel = L\"|E(u) - E(u_h)|\", \n",
    "          xscale = log10, yscale = log10,\n",
    "          title = \"Error P1-FEM\")\n",
    "NN1 = NN[3:5]\n",
    "scatterlines!(NN, err[1]; linewidth=5, markersize=20, label=L\"P1\")\n",
    "scatterlines!(NN, err[2]; linewidth=5, markersize=20, label=L\"P2\")\n",
    "lines!(NN1, 5 ./ NN1.^(2); color=:black, linewidth=3, label=L\"h^2, h^4\") \n",
    "lines!(NN1, 5 ./ NN1.^(4); color=:black, linewidth=3) \n",
    "\n",
    "axislegend(ax)\n",
    "fig"
   ]
  },
  {
   "cell_type": "markdown",
   "metadata": {},
   "source": [
    "Oh dear, our predicted rates are completely off! With a bit of experimenting we observe a rate of $h^{4/3}$ for the energy which corresponds to $h^{2/3}$ for the solution. "
   ]
  },
  {
   "cell_type": "code",
   "execution_count": null,
   "metadata": {},
   "outputs": [],
   "source": [
    "# show the convergence of total energy \n",
    "fig = Figure(size = (400, 400); fontsize=30)\n",
    "ax = Axis(fig[1, 1], xlabel = L\"h^{-1}\", ylabel = L\"|E(u) - E(u_h)|\", \n",
    "          xscale = log10, yscale = log10,\n",
    "          title = \"Error P1 and P2-FEM\")\n",
    "NN1 = NN[4:7]\n",
    "scatterlines!(NN, err[1]; linewidth=5, markersize=20, label=L\"P1\")\n",
    "scatterlines!(NN, err[2]; linewidth=5, markersize=20, label=L\"P2\")\n",
    "lines!(NN1, 2 ./ NN1.^(4/3); color=:black, linewidth=3, label=L\"h^{4/3}\") \n",
    "\n",
    "axislegend(ax)\n",
    "fig"
   ]
  },
  {
   "cell_type": "markdown",
   "metadata": {},
   "source": [
    "## Method of Manufactured Solutions\n",
    "\n",
    "We can produce another example so clearly see the $h^{2/3}$ convergence rate for the solution as well, using the method of manufactured solutions. \n",
    "As before, we specify a solution $u(x)$ and compute $f = - \\Delta u(x)$ via automatic differentiation. Then we use $f$ as the input into our FEM.\n",
    "\n",
    "But we take care that we give the solution the natural leading singularity. We do it for $N = 2$ where we can see the predicted rate more clearly."
   ]
  },
  {
   "cell_type": "code",
   "execution_count": null,
   "metadata": {},
   "outputs": [],
   "source": [
    "using ForwardDiff, LinearAlgebra\n",
    "\n",
    "function u_ex(x)\n",
    "    r = norm(x) \n",
    "    if r == 0.0; return 0.0; end \n",
    "    θ = mod(atan(x[2], x[1]), 2*π)\n",
    "    return 3 * (1 - x[1]^2) * (1 - x[2]^2) * r^(2/3) * sin(2/3*θ)\n",
    "end\n",
    "\n",
    ";"
   ]
  },
  {
   "cell_type": "markdown",
   "metadata": {},
   "source": [
    "This might feel a bit fake, but the resulting forcing function is actually smooth, in particular bounded, which we can quickly confirm: "
   ]
  },
  {
   "cell_type": "code",
   "execution_count": null,
   "metadata": {},
   "outputs": [],
   "source": [
    "ffun = x -> - tr( ForwardDiff.hessian(u_ex, x) )\n",
    "grid, _ = generate_lshape(40)\n",
    "maxf_nodes = maximum( abs(ffun(2*rand(2) .- 1)) for _ = 1:10_000)"
   ]
  },
  {
   "cell_type": "markdown",
   "metadata": {},
   "source": [
    "Equipped with some confidence in our model problem we can study the convergence:"
   ]
  },
  {
   "cell_type": "code",
   "execution_count": null,
   "metadata": {},
   "outputs": [],
   "source": [
    "NN = [4, 8, 16, 32, 64, 128]\n",
    "errs_L2 = Float64[] \n",
    "errs_H1 = Float64[]\n",
    "for N in NN\n",
    "    err_L2, err_H1 = fem_errors(2, N, generate_lshape, u_ex)\n",
    "    push!(errs_L2, err_L2)\n",
    "    push!(errs_H1, err_H1)\n",
    "end\n",
    ";"
   ]
  },
  {
   "cell_type": "code",
   "execution_count": null,
   "metadata": {},
   "outputs": [],
   "source": [
    "# plot the errors\n",
    "fig = Figure(size = (400, 400); fontsize=30)\n",
    "ax = Axis(fig[1, 1], xlabel = L\"h^{-1}\", ylabel = L\"\\text{error}\", \n",
    "          xscale = log10, yscale = log10,\n",
    "          title = \"Error P2-FEM\")\n",
    "scatterlines!(NN, errs_L2; linewidth=5, markersize=20, label=L\"L^2\")\n",
    "scatterlines!(NN, errs_H1; linewidth=5, markersize=20, label = L\"H^1\")\n",
    "NN1 = NN[3:5]\n",
    "lines!(NN1, 1.5 ./ NN1.^(2/3); color=:black, linewidth=3, label = L\"h^{2/3}, h^{4/3}\")\n",
    "lines!(NN1, 0.3 ./ NN1.^(4/3); color=:black, linewidth=3)\n",
    "axislegend(ax)\n",
    "fig"
   ]
  },
  {
   "cell_type": "markdown",
   "metadata": {},
   "source": [
    "## Final Example\n",
    "\n",
    "Consider a domain with a wedge cut out as shown in the next figure. "
   ]
  },
  {
   "cell_type": "code",
   "execution_count": null,
   "metadata": {},
   "outputs": [],
   "source": [
    "grid, ∂Ω = generate_wedge(20)\n",
    "\n",
    "FerriteViz.wireframe(grid, markersize = 10, strokewidth = 2, \n",
    "                     figure = (resolution=(500,500),))"
   ]
  },
  {
   "cell_type": "markdown",
   "metadata": {},
   "source": [
    "What will the rate of convergence be in this case -- according to our theory? \n",
    "\n",
    "We will study this in energy to make sure we don't pre-assume anything accidentlly."
   ]
  },
  {
   "cell_type": "code",
   "execution_count": null,
   "metadata": {},
   "outputs": [],
   "source": [
    "\n",
    "ffun = ξ -> 10.0\n",
    "NN = [4, 8, 16, 32, 64, 128, 256]\n",
    "E = [ [ compute_energy(k, N, generate_wedge, ffun) for N in NN ]\n",
    "      for k = 1:2 ]\n",
    "Elim = aitken.(E)\n",
    "err = [ abs.(E[i] .- Elim[i]) for i = 1:2 ];\n"
   ]
  },
  {
   "cell_type": "code",
   "execution_count": null,
   "metadata": {},
   "outputs": [],
   "source": [
    "# show the convergence of total energy : 7/4 π -> ???\n",
    "fig = Figure(size = (400, 400); fontsize=30)\n",
    "ax = Axis(fig[1, 1], xlabel = L\"h^{-1}\", ylabel = L\"|E(u) - E(u_h)|\", \n",
    "          xscale = log10, yscale = log10,\n",
    "          title = \"Error P1-FEM\")\n",
    "NN1 = NN[4:7]\n",
    "scatterlines!(NN, err[1]; linewidth=5, markersize=20, label=L\"P1\")\n",
    "scatterlines!(NN, err[2]; linewidth=5, markersize=20, label=L\"P2\")\n",
    "\n",
    "# fill this in!\n",
    "# lines!(NN1, 2.5 ./ NN1.^(***); color=:black, linewidth=3, label=L\"h^{4/3}\") \n",
    "\n",
    "axislegend(ax)\n",
    "fig"
   ]
  },
  {
   "cell_type": "code",
   "execution_count": null,
   "metadata": {},
   "outputs": [],
   "source": []
  }
 ],
 "metadata": {
  "kernelspec": {
   "display_name": "Julia 1.10.0",
   "language": "julia",
   "name": "julia-1.10"
  },
  "language_info": {
   "file_extension": ".jl",
   "mimetype": "application/julia",
   "name": "julia",
   "version": "1.10.0"
  }
 },
 "nbformat": 4,
 "nbformat_minor": 2
}
