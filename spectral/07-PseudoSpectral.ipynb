{
 "cells": [
  {
   "cell_type": "code",
   "execution_count": null,
   "id": "aacdae15",
   "metadata": {},
   "outputs": [],
   "source": [
    "using Pkg; Pkg.activate(\".\")\n",
    "using Plots, LinearAlgebra, LaTeXStrings, ForwardDiff\n",
    "include(\"tools.jl\")"
   ]
  },
  {
   "cell_type": "markdown",
   "id": "08b0f512",
   "metadata": {},
   "source": [
    "# Pseudo-Spectral Methods\n",
    "\n",
    "(collocation methods)\n",
    "\n",
    "## Example 1: transport with variable coefficients\n",
    "\n",
    "$$\n",
    "\\begin{aligned}\n",
    "  u_t + v(x) u_x = 0, \\qquad \\text{(+PBC)}\n",
    "\\end{aligned}\n",
    "$$\n",
    "with initial condition \n",
    "$$\n",
    "    u(0, x) = \\exp( - 10 * (1-\\cos(x))/2)\n",
    "$$\n",
    "\n",
    "We discretize this in time with the Leapfrog scheme and in space with a pseudo-spectral method (details see class) which results in \n",
    "$$\n",
    "\t\\frac{u_N^{n+1} - u_N^{n-1}}{2 \\Delta t} + I_N[ v \\cdot u_{N,x}^n ]  = 0.\n",
    "$$"
   ]
  },
  {
   "cell_type": "code",
   "execution_count": null,
   "id": "cb28bdfe",
   "metadata": {},
   "outputs": [],
   "source": [
    "function plot_soln(t, X, u)\n",
    "    plot( xaxis = ([0, 2*π], ), yaxis = ([-0.1, 1.2],) , size = (400, 250), \n",
    "          legend = :topright, \n",
    "          title = \"t = $(round(t, digits=2))\")\n",
    "    plot!(X, V, lw=3, label = \"v(x)\")\n",
    "    plot!(X, U, lw=3, label = \"u(t, x)\")\n",
    "end\n",
    "\n",
    "# ------------------------------------------\n",
    "# Problem setup\n",
    "N = 128  \n",
    "dt = π/(6N) \n",
    "tmax = 32.0\n",
    "vfun = x -> 0.33 + sin(x/2)^2 / 2\n",
    "u0 = x ->  exp(- 10 * (1+cos(x))/2 )\n",
    "#------------------------------------------\n",
    "\n",
    "\n",
    "X = xgrid(N)\n",
    "K = kgrid(N)\n",
    "V = vfun.(X)\n",
    "\n",
    "# transport operator: x -> k -> x \n",
    "trans = let K=K, V=V\n",
    "    U -> V .* real.(ifft(im * (K .* fft(U))))\n",
    "end\n",
    "\n",
    "# initial condition, we also need one additional v in the past\n",
    "# (this takes one step of the PDE backward in time)\n",
    "U = u0.(X)\n",
    "Uold = U - dt * trans(U)\n",
    "\n",
    "# time-stepping loop\n",
    "@gif for t = 0:dt:tmax\n",
    "    global U, Uold, trans \n",
    "    U, Uold = Uold - 2 * dt * trans(U), U\n",
    "    plot_soln(t, X, U)\n",
    "end every 20\n"
   ]
  },
  {
   "cell_type": "markdown",
   "id": "9791d369",
   "metadata": {},
   "source": [
    "---"
   ]
  },
  {
   "cell_type": "markdown",
   "id": "806c8cf1",
   "metadata": {},
   "source": [
    "### Example 2: Elliptic PDE\n",
    "\n",
    "$$\n",
    " Lu = - {\\rm div} A(x) \\nabla u(x) + c(x) u = f, \\qquad \\text{(+ PBC)}\n",
    "$$\n"
   ]
  },
  {
   "cell_type": "code",
   "execution_count": null,
   "id": "792b43b1",
   "metadata": {},
   "outputs": [],
   "source": [
    "using StaticArrays\n",
    "\n",
    "# model specification\n",
    "A_fun = (x1, x2) -> SA[1+0.5*sin(x1) 0.25*cos(x1+x2); 0.25*cos(x1+x2) 1+0.5*sin(x2) ]\n",
    "c_fun = (x1, x2) -> 1+sin(cos(x1)*cos(x2))\n",
    "f_fun = (x1, x2) -> exp(-10*(2+cos(x1)+cos(x2)))\n",
    "\n",
    "# discretization parameters \n",
    "D = 2\n",
    "N = 32\n",
    "\n",
    "# differential equation L[U] = F\n",
    "L, F = let A_fun = A_fun, c_fun = c_fun, f_fun = f_fun, D = D, N = N\n",
    "    X1, X2 = xgrid(D, N)\n",
    "    K1, K2 = kgrid(D, N) \n",
    "    F = f_fun.(X1, X2)\n",
    "    C = c_fun.(X1, X2) \n",
    "    A = A_fun.(X1, X2)\n",
    "    A11 = getindex.(A, 1, 1)\n",
    "    A12 = getindex.(A, 1, 2)\n",
    "    A22 = getindex.(A, 2, 2)\n",
    "\n",
    "    L = U -> begin\n",
    "        Û = fft(U) \n",
    "        # in k-space we can evaluate ∇u_N\n",
    "        ∇U1 = real.(ifft(im * K1 .* Û))\n",
    "        ∇U2 = real.(ifft(im * K2 .* Û))\n",
    "        # multiply with diffusion coeff: q = I_N[ A * ∇u_N ]\n",
    "        Q1 = A11 .* ∇U1 + A12 .* ∇U2\n",
    "        Q2 = A12 .* ∇U1 + A22 .* ∇U2 \n",
    "        # apply div\n",
    "        divQ = real.(ifft( im * K1 .* fft(Q1) + im * K2 .* fft(Q2) ))\n",
    "        return - divQ + C .* U\n",
    "    end\n",
    "    \n",
    "    (L, F)\n",
    "end\n",
    ";"
   ]
  },
  {
   "cell_type": "code",
   "execution_count": null,
   "id": "805c49af",
   "metadata": {},
   "outputs": [],
   "source": [
    "# We need to solve L(U) = F \n",
    "# OPTION 1: \n",
    "\n",
    "# (1) Assemble the dense linear system!\n",
    "L_mat = zeros((2*N)^2, (2*N)^2)\n",
    "for i = 1:(2*N)^2\n",
    "    ei = zeros(2*N, 2*N)\n",
    "    ei[i] = 1\n",
    "    L_mat[:, i] = L(ei)[:]\n",
    "end\n",
    "L_mat"
   ]
  },
  {
   "cell_type": "code",
   "execution_count": null,
   "id": "94d44eca",
   "metadata": {},
   "outputs": [],
   "source": [
    "# (2) Solve with dense linear algebra \n",
    "U = reshape( L_mat \\ F[:], (2*N, 2*N) )\n",
    "\n",
    "# just to confirm that we really did solve the right system\n",
    "@show norm( (L(U) - F)[:], Inf )"
   ]
  },
  {
   "cell_type": "code",
   "execution_count": null,
   "id": "714cd645",
   "metadata": {},
   "outputs": [],
   "source": [
    "# not a very interesting solution, but might as well plot it\n",
    "xp = xgrid(N) \n",
    "surface(xp, xp, U, cb=nothing, size = (300, 300))"
   ]
  },
  {
   "cell_type": "code",
   "execution_count": null,
   "id": "a2950ab9",
   "metadata": {},
   "outputs": [],
   "source": [
    "\n",
    "# OPTION 2: iterative solver \n",
    "\n",
    "using IterativeSolvers, LinearMaps\n",
    "\n",
    "L_vec = u -> L(reshape(u, 2*N, 2*N))[:]\n",
    "L_map = LinearMap(L_vec, L_vec, (2*N)^2)\n",
    "u = IterativeSolvers.cg(L_map, F[:], abstol=1e-3, reltol=1e-3)\n",
    "U_cg = reshape(u, 2*N, 2*N)\n",
    "\n",
    "@show norm(u - U[:], Inf)\n",
    "@show norm( (L(U)    - F)[:], Inf )\n",
    "@show norm( (L(U_cg) - F)[:], Inf );"
   ]
  },
  {
   "cell_type": "code",
   "execution_count": null,
   "id": "b2aedf70",
   "metadata": {},
   "outputs": [],
   "source": [
    "# One can save a lot of time here; even more in 3D!!!\n",
    "# and much much more if one pays more attention to performance. \n",
    "@time IterativeSolvers.cg(L_map, F[:], abstol=1e-3, reltol=1e-3);\n",
    "@time L_mat \\ F[:];"
   ]
  },
  {
   "cell_type": "code",
   "execution_count": null,
   "id": "1478eaa7",
   "metadata": {},
   "outputs": [],
   "source": []
  }
 ],
 "metadata": {
  "kernelspec": {
   "display_name": "Julia 1.10.4",
   "language": "julia",
   "name": "julia-1.10"
  },
  "language_info": {
   "file_extension": ".jl",
   "mimetype": "application/julia",
   "name": "julia",
   "version": "1.10.4"
  }
 },
 "nbformat": 4,
 "nbformat_minor": 5
}
