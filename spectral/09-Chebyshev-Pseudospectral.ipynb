{
 "cells": [
  {
   "cell_type": "markdown",
   "id": "498f3395",
   "metadata": {},
   "source": [
    "# Chebyshev Pseudospectral Method Example"
   ]
  },
  {
   "cell_type": "markdown",
   "id": "bdcbb1ba",
   "metadata": {},
   "source": [
    "### Toy model\n",
    "\n",
    "This notebook follows the introductory example from \n",
    "- Olver, Townsend, A fast and well-conditioned spectral method, arXiv:1202.1347\n",
    "\n",
    "We consider the first-order boundary value problem on the interval $[-1, 1]$. \n",
    "$$\n",
    "  u'(x) + x u(x) = f(x), \\qquad x(-1) = 0.\n",
    "$$"
   ]
  },
  {
   "cell_type": "code",
   "execution_count": null,
   "id": "0d0146c6",
   "metadata": {},
   "outputs": [],
   "source": [
    "using OrdinaryDiffEq, Plots\n",
    "\n",
    "f_fun = x -> cos(3*sin(3*x))\n",
    "F(u, p, x) = - x * u + f_fun(x)\n",
    "u0 = 0.0 \n",
    "xspan = (-1.0, 1.0)\n",
    "prob = ODEProblem(F, u0, xspan)\n",
    "sol = solve(prob, Tsit5(), reltol = 1e-8, abstol = 1e-8)\n",
    "\n",
    "p1 = plot(sol, lw = 3, xaxis = \"x\", yaxis = \"u(x)\", \n",
    "          label = \"ODE-Solver\", size = (400, 250))"
   ]
  },
  {
   "cell_type": "code",
   "execution_count": null,
   "id": "dbb07901",
   "metadata": {},
   "outputs": [],
   "source": [
    "using LinearAlgebra, FFTW, BandedMatrices, Plots\n",
    "\n",
    "function chebbasis(x, N)\n",
    "   T = zeros(N+1)\n",
    "   T[1] = 1 \n",
    "   T[2] = x \n",
    "   for n = 2:N\n",
    "      T[n+1] = 2 * x * T[n] - T[n-1] \n",
    "   end \n",
    "   return T \n",
    "end\n",
    "\n",
    "chebnodes(N) = [ cos( π * n / N ) for n = N:-1:0 ]\n",
    "\n",
    "function fct(A::AbstractVector)\n",
    "    N = length(A)\n",
    "    F = real.(ifft([A[1:N]; A[N-1:-1:2]]))\n",
    "   return [[F[1]]; 2*F[2:(N-1)]; [F[N]]]\n",
    "end\n",
    "\n",
    "\"\"\"\n",
    "Fast and stable implementation based on the FFT. This uses \n",
    "the connection between Chebyshev and trigonometric interpolation.\n",
    "But this transform needs the reverse chebyshev nodes.\n",
    "\"\"\"\n",
    "chebinterp(f, N) = fct(f.(reverse(chebnodes(N))))\n",
    "\n",
    "\"\"\"\n",
    "Evaluate a polynomial with coefficients F̃ in the Chebyshev basis. \n",
    "This avoids storing the basis and is significantly faster.\n",
    "\"\"\"\n",
    "function chebeval(x, F̃) \n",
    "    T0 = one(x); T1 = x \n",
    "    p = F̃[1] * T0 + F̃[2] * T1 \n",
    "    for n = 3:length(F̃)\n",
    "        T0, T1 = T1, 2*x*T1 - T0 \n",
    "        p += F̃[n] * T1 \n",
    "    end \n",
    "    return p \n",
    "end \n"
   ]
  },
  {
   "cell_type": "code",
   "execution_count": null,
   "id": "569fc4a9",
   "metadata": {},
   "outputs": [],
   "source": [
    "# The multiplication operator T ↦ x * T\n",
    "𝒳 = N -> BandedMatrix(( -1 => fill(0.5, N), \n",
    "                         1 => [[1.0]; fill(0.5, N-1)]), (N+1, N+1))\n",
    "𝒳(8)"
   ]
  },
  {
   "cell_type": "code",
   "execution_count": null,
   "id": "79e59069",
   "metadata": {},
   "outputs": [],
   "source": [
    "# The differentiation operator T ↦ T' = 𝐃 * U\n",
    "𝒟 = N -> BandedMatrix(( -1 => Float64.(1:N),), (N+1, N+1) )\n",
    "𝒟(8)"
   ]
  },
  {
   "cell_type": "code",
   "execution_count": null,
   "id": "5819bc62",
   "metadata": {},
   "outputs": [],
   "source": [
    "# The basis transform T = 𝒮 * U\n",
    "𝒮 = N -> BandedMatrix( (-2 => fill(-0.5, N-1), \n",
    "                         0 => [[1.0]; fill(0.5, N)]), (N+1, N+1) )\n",
    "𝒮(8)"
   ]
  },
  {
   "cell_type": "markdown",
   "id": "c447e143",
   "metadata": {},
   "source": [
    "With the operators defined above the chebyshev pseudo-spectral method becomes \n",
    "$$\n",
    "  (\\mathscr{D}^T + \\mathscr{S}^T \\mathscr{X}^T) {\\bf c} = \\mathscr{S}^T {\\bf F}.\n",
    "$$\n",
    "(except we haven't yet applied the boundary condition!)"
   ]
  },
  {
   "cell_type": "code",
   "execution_count": null,
   "id": "013251f1",
   "metadata": {},
   "outputs": [],
   "source": [
    "𝒜 = N -> 𝒟(N)' + 𝒮(N)' * 𝒳(N)'\n",
    "𝒜(8)"
   ]
  },
  {
   "cell_type": "code",
   "execution_count": null,
   "id": "fcc530de",
   "metadata": {},
   "outputs": [],
   "source": [
    "# Since we are missing the boundary condition, it is reasonable \n",
    "# to assume that this is not invertible! Indeed we can see this in \n",
    "# the spectrum.\n",
    "eigvals(collect(𝒜(8)))"
   ]
  },
  {
   "cell_type": "code",
   "execution_count": null,
   "id": "7984017e",
   "metadata": {},
   "outputs": [],
   "source": [
    "N = 8\n",
    "[ chebbasis(-1.0, N)'; 𝒜(N) ]"
   ]
  },
  {
   "cell_type": "code",
   "execution_count": null,
   "id": "e0eee821",
   "metadata": {},
   "outputs": [],
   "source": [
    "# We do something really naive now to solve the \n",
    "# resulting linear system, there is a lot one can \n",
    "# do to make this efficient (see cited reference)\n",
    "# This would need to exploit the fact that we \n",
    "# can decompose 𝐀 into a banded and a low-rank matrix.\n",
    "\n",
    "N = 12\n",
    "𝐀 = [ chebbasis(-1.0, N)'; 𝒜(N) ]\n",
    "𝐅 = chebinterp(f_fun, N)\n",
    "𝐆 = [ [0.0]; 𝒮(N)' * 𝐅 ]\n",
    "𝐜 = 𝐀 \\ 𝐆;  # treat as LSQ, uses qr factorization\n",
    "\n",
    "xp = range(-1.0, 1.0, length=300)\n",
    "up = chebeval.(xp, Ref(𝐜))\n",
    "\n",
    "plot!(deepcopy(p1), xp, up, lw=3, label = \"Chebyshev Method\")"
   ]
  }
 ],
 "metadata": {
  "kernelspec": {
   "display_name": "Julia 1.10.4",
   "language": "julia",
   "name": "julia-1.10"
  },
  "language_info": {
   "file_extension": ".jl",
   "mimetype": "application/julia",
   "name": "julia",
   "version": "1.10.4"
  }
 },
 "nbformat": 4,
 "nbformat_minor": 5
}
