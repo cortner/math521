{
 "cells": [
  {
   "cell_type": "code",
   "execution_count": null,
   "id": "aacdae15",
   "metadata": {},
   "outputs": [],
   "source": [
    "using Pkg; Pkg.activate(\".\")\n",
    "using Plots, LinearAlgebra, LaTeXStrings\n",
    "include(\"tools.jl\")"
   ]
  },
  {
   "cell_type": "code",
   "execution_count": null,
   "id": "52fa5823",
   "metadata": {},
   "outputs": [],
   "source": [
    "\"interpolation nodes\"\n",
    "xgrid(N) = [ j * π / N  for j = 0:2N-1 ]\n",
    "\n",
    "\"fourier coefficient indices\"\n",
    "kgrid(N) = [ 0:N; -N+1:-1 ]\n",
    "\n",
    "\"\"\"\n",
    "construct the coefficients of the trigonometric interpolant\n",
    "\"\"\"\n",
    "function triginterp_fft(f::Function, N)\n",
    "    X = xgrid(N)\n",
    "    # nodal values at interpolation nodes\n",
    "    F = f.(X) \n",
    "    return fft(F) / (2*N)\n",
    "end \n",
    "\n",
    "\n",
    "\"\"\"\n",
    "to evaluate a trigonometric polynomial just sum coefficients * basis\n",
    "we the take the real part because we assume the function we are \n",
    "approximating is real.\n",
    "\"\"\"\n",
    "evaltrig(x, F̂) = sum( real(F̂k * exp(im * x * k))\n",
    "                      for (F̂k, k) in zip(F̂, kgrid(length(F̂) ÷ 2)) )"
   ]
  },
  {
   "cell_type": "markdown",
   "id": "08b0f512",
   "metadata": {},
   "source": [
    "We return to our periodic witch of Agnesi example."
   ]
  },
  {
   "cell_type": "code",
   "execution_count": null,
   "id": "2b26d0aa",
   "metadata": {},
   "outputs": [],
   "source": [
    "f, α = let c = 3\n",
    "    (x -> 1 / (1 + c^2 * sin(x)^2)), asinh(1/c)\n",
    "end\n",
    "\n",
    "plot(f, -π, π, lw=3, size = (600, 200))"
   ]
  },
  {
   "cell_type": "code",
   "execution_count": null,
   "id": "84e11ae8",
   "metadata": {},
   "outputs": [],
   "source": [
    "NN = [4, 8, 12, 16, 20, 24, 28]\n",
    "# NN = 8:8:128\n",
    "xe = range(-π, π, length=1000)\n",
    "f_ex = f.(xe)\n",
    "err_max = zeros(length(NN))\n",
    "for (i, N) in enumerate(NN)\n",
    "    F̂ = triginterp_fft(f, N);\n",
    "    fN = evaltrig.(xe, Ref(F̂))\n",
    "    err_max[i] = norm(f_ex - fN, Inf)\n",
    "end\n"
   ]
  },
  {
   "cell_type": "code",
   "execution_count": null,
   "id": "f2355ee7",
   "metadata": {},
   "outputs": [],
   "source": [
    "plot(NN, err_max; lw=3, m=:o, ms=5, label = L\"\\|f - I_N f\\|_\\infty\",\n",
    "    yscale = :log10, xscale = :identity, xlabel = L\"N\", \n",
    "    size = (400, 300))\n",
    "plot!(NN[4:end], 2*exp.(-α * NN[4:end]); lw=2, ls=:dash, c = :black, \n",
    "        label = L\"e^{-\\alpha N}\")"
   ]
  },
  {
   "cell_type": "markdown",
   "id": "96f58415",
   "metadata": {},
   "source": [
    "Now that we have a fast algorithm, we can make the problem a bit harder."
   ]
  },
  {
   "cell_type": "code",
   "execution_count": null,
   "id": "688b3fd4",
   "metadata": {},
   "outputs": [],
   "source": [
    "f, α = let c = 10\n",
    "    (x -> 1 / (1 + c^2 * sin(x)^2)), asinh(1/c)\n",
    "end\n",
    "\n",
    "NN = 16:32:512\n",
    "xe = range(-π, π, length=4000)\n",
    "f_ex = f.(xe)\n",
    "err_max = zeros(length(NN))\n",
    "for (i, N) in enumerate(NN)\n",
    "    F̂ = triginterp_fft(f, N);\n",
    "    fN = evaltrig.(xe, Ref(F̂))\n",
    "    err_max[i] = norm(f_ex - fN, Inf)\n",
    "end\n"
   ]
  },
  {
   "cell_type": "code",
   "execution_count": null,
   "id": "926f02fc",
   "metadata": {},
   "outputs": [],
   "source": [
    "plot(NN, err_max; lw=3, m=:o, ms=5, label = L\"\\|f - I_N f\\|_\\infty\",\n",
    "    yscale = :log10, xscale = :identity, xlabel = L\"N\", \n",
    "    size = (400, 300), ylims = (1e-16, 1.0))\n",
    "plot!(NN[4:end], 4*exp.(-α * NN[4:end]); lw=2, ls=:dash, c = :black, \n",
    "        label = L\"e^{-\\alpha N}\")"
   ]
  },
  {
   "cell_type": "markdown",
   "id": "7f044666",
   "metadata": {},
   "source": [
    "This is now taking a bit longer because we are now evaluating the trigonometric interpolant on an increasing number of grid points. That still has quadratic scaling!. But this limitation can also be removed."
   ]
  },
  {
   "cell_type": "markdown",
   "id": "f89ff0fc",
   "metadata": {},
   "source": [
    "### Evaluating Trigonometric Polynomials on a Grid"
   ]
  },
  {
   "cell_type": "markdown",
   "id": "190d063b",
   "metadata": {},
   "source": [
    "The key observation is that the IFFT can be used to obtain the nodal values. So to get nodal values on a refined grid we can simply \"pad\" the vector $\\hat{F}$ with zeros. This is what `evaltrig_grid` does."
   ]
  },
  {
   "cell_type": "code",
   "execution_count": null,
   "id": "523dcf1e",
   "metadata": {},
   "outputs": [],
   "source": [
    "function evaltrig_grid(F̂, M::Integer)\n",
    "    N = length(F̂) ÷ 2\n",
    "    @assert 2 * N == length(F̂)\n",
    "    @assert M >= N \n",
    "    F̂_M = zeros(ComplexF64, 2*M)\n",
    "    F̂_M[1:N] .= F̂[1:N]\n",
    "    F̂_M[end-N+1:end] .= F̂[end-N+1:end]\n",
    "    x = xgrid(M) \n",
    "    Fx = ifft(F̂_M) * (2*M)\n",
    "    return Fx, x\n",
    "end"
   ]
  },
  {
   "cell_type": "code",
   "execution_count": null,
   "id": "cf3a9281",
   "metadata": {},
   "outputs": [],
   "source": [
    "N = 3\n",
    "F̂ = randn(2*N)\n",
    "\n",
    "# naive plotting just the 6 nodal values?\n",
    "xp1 = [xgrid(N); [2*π]]\n",
    "F1 = real.(ifft(F̂)) * (2*N); push!(F1, F1[1])\n",
    "\n",
    "# We can of course just use eval_trig on a finer grid\n",
    "xp2 = range(0, 2*π, length=200)\n",
    "F2 = evaltrig.(xp2, Ref(F̂))\n",
    "\n",
    "# Nlog(N) scaling cost \n",
    "F3, xp3 = evaltrig_grid(F̂, 200)\n",
    "push!(F3, F3[1]); xp3 = [xp3; [2*π]]\n",
    "\n",
    "plot(xp1, F1, lw=3, label = \"pw\", size = (400, 300))\n",
    "plot!(xp2, F2, lw=3, label = \"evaltrig\")\n",
    "plot!(xp3, real.(F3), lw=3, ls = :dash, label = \"evaltrig_grid\")"
   ]
  },
  {
   "cell_type": "markdown",
   "id": "f47662b1",
   "metadata": {},
   "source": [
    "Equipped with this technique we can now easily scale the error analysis to arbitarily large problems. "
   ]
  },
  {
   "cell_type": "code",
   "execution_count": null,
   "id": "82638688",
   "metadata": {},
   "outputs": [],
   "source": [
    "f, α = let c = 50\n",
    "    (x -> 1 / (1 + c^2 * sin(x)^2)), asinh(1/c)\n",
    "end\n",
    "\n",
    "plot(f, -π, π, lw=3, size = (600, 200))"
   ]
  },
  {
   "cell_type": "code",
   "execution_count": null,
   "id": "1ec58ae4",
   "metadata": {},
   "outputs": [],
   "source": [
    "\n",
    "# NN = 16:32:512\n",
    "NN = 128:128:(15*128)\n",
    "err_max = zeros(length(NN))\n",
    "Nerr = 2^15\n",
    "for (i, N) in enumerate(NN)\n",
    "    F̂ = triginterp_fft(f, N);\n",
    "    Fe, xe = evaltrig_grid(F̂, Nerr)\n",
    "    err_max[i] = norm(real.(Fe) - f.(xe), Inf)\n",
    "end\n"
   ]
  },
  {
   "cell_type": "code",
   "execution_count": null,
   "id": "5757add5",
   "metadata": {},
   "outputs": [],
   "source": [
    "plot(NN, err_max; lw=3, m=:o, ms=5, label = L\"\\|f - I_N f\\|_\\infty\",\n",
    "    yscale = :log10, xscale = :identity, xlabel = L\"N\", \n",
    "    size = (400, 300), ylims = (1e-16, 1.0))\n",
    "plot!(NN[4:end], 4*exp.(-α * NN[4:end]); lw=2, ls=:dash, c = :black, \n",
    "        label = L\"e^{-\\alpha N}\")"
   ]
  },
  {
   "cell_type": "markdown",
   "id": "377448e4",
   "metadata": {},
   "source": [
    "---\n",
    "\n",
    "Experiment?"
   ]
  },
  {
   "cell_type": "code",
   "execution_count": null,
   "id": "5a3ae5d0",
   "metadata": {},
   "outputs": [],
   "source": [
    "function interpolation_error(f, N::Integer, Nerr = N * 8)\n",
    "    F̂ = triginterp_fft(f, N);\n",
    "    Fe, xe = evaltrig_grid(F̂, Nerr)\n",
    "    return norm(real.(Fe) - f.(xe), Inf)\n",
    "end"
   ]
  },
  {
   "cell_type": "code",
   "execution_count": null,
   "id": "f3a60b25",
   "metadata": {},
   "outputs": [],
   "source": [
    "# Example: Fermi-Dirac Function\n",
    "\n",
    "# define a new function\n",
    "f = x -> 1 / (1 + exp(20*sin(x)))\n",
    "α = π/20\n",
    "\n",
    "# plot the target function\n",
    "p1 = plot(f, -π/2, π/2, lw=3, label = \"f\", xlabel = \"x\")\n",
    "\n",
    "# compute errors\n",
    "NN = 16:16:(16*16); Nerr = 4092\n",
    "max_err = interpolation_error.(Ref(f), NN, Nerr)\n",
    "\n",
    "# plot errors \n",
    "p2 = plot(NN, max_err; lw=3, m=:o, ms=5, label = L\"\\|f - I_N f\\|_\\infty\",\n",
    "    yscale = :log10, xscale = :identity, xlabel = L\"N\", \n",
    "    size = (400, 300), ylims = (1e-16, 1.0))\n",
    "plot!(p2, NN[4:end], 8*exp.(-α * NN[4:end]); lw=2, ls=:dash, c = :black, \n",
    "        label = L\"e^{-\\alpha N}\")\n",
    "\n",
    "# plot both \n",
    "plot(p1, p2, layout = (1,2), size = (600, 300))"
   ]
  },
  {
   "cell_type": "code",
   "execution_count": null,
   "id": "d3381102",
   "metadata": {},
   "outputs": [],
   "source": [
    "# Example: A Singular function C^{2,1} - regularity\n",
    "#     not analytic so we only get algebraic decay.\n",
    "\n",
    "# define a new function\n",
    "f = x -> abs(sin(x))^3\n",
    "α = 3.0\n",
    "\n",
    "# plot the target function\n",
    "p1 = plot(f, -π/2, π/2, lw=3, label = \"f\", xlabel = \"x\")\n",
    "\n",
    "# compute errors\n",
    "NN = (2).^(3:2:16); Nerr = 8 * NN[end]\n",
    "max_err = interpolation_error.(Ref(f), NN, Nerr)\n",
    "\n",
    "# plot errors \n",
    "p2 = plot(NN, max_err; lw=3, m=:o, ms=5, label = L\"\\|f - I_N f\\|_\\infty\",\n",
    "    yscale = :log10, xscale = :log10, xlabel = L\"N\", \n",
    "    size = (400, 300), ylims = (1e-16, 1.0))\n",
    "plot!(p2, NN[4:end], 10*(NN[4:end]).^(-α); lw=2, ls=:dash, c = :black, \n",
    "        label = L\"N^{-\\alpha}\")\n",
    "\n",
    "# plot both \n",
    "plot(p1, p2, layout = (1,2), size = (600, 300))\n"
   ]
  },
  {
   "cell_type": "markdown",
   "id": "d11f90f8",
   "metadata": {},
   "source": [
    "---"
   ]
  },
  {
   "cell_type": "code",
   "execution_count": null,
   "id": "000fd06b",
   "metadata": {},
   "outputs": [],
   "source": [
    "# define a new function\n",
    "f = x -> abs(sin(x))^(2+1/3)\n",
    "α = 2+1/3\n",
    "\n",
    "# plot the target function\n",
    "p1 = plot(f, -π/2, π/2, lw=3, label = \"f\", xlabel = \"x\")\n",
    "\n",
    "# compute errors\n",
    "NN = (2).^(3:2:16); Nerr = 8 * NN[end]\n",
    "max_err = interpolation_error.(Ref(f), NN, Nerr)\n",
    "\n",
    "# plot errors \n",
    "p2 = plot(NN, max_err; lw=3, m=:o, ms=5, label = L\"\\|f - I_N f\\|_\\infty\",\n",
    "    yscale = :log10, xscale = :log10, xlabel = L\"N\", \n",
    "    size = (400, 300), ylims = (1e-16, 1.0))\n",
    "plot!(p2, NN[4:end], 1*(NN[4:end]).^(-α); lw=2, ls=:dash, c = :black, \n",
    "        label = L\"N^{-\\alpha}\")\n",
    "\n",
    "# plot both \n",
    "plot(p1, p2, layout = (1,2), size = (600, 300))\n"
   ]
  },
  {
   "cell_type": "code",
   "execution_count": null,
   "id": "bca881ec",
   "metadata": {},
   "outputs": [],
   "source": [
    "# define a new function\n",
    "function finf(x)\n",
    "    if 0 < x < π \n",
    "        return exp(-1/sin(x)) \n",
    "    else\n",
    "        return zero(typeof(x))\n",
    "    end\n",
    "end\n",
    "\n",
    "# plot the target function\n",
    "p1 = plot(finf, -π, π, lw=3, label = \"f\", xlabel = \"x\")\n",
    "\n",
    "# compute errors\n",
    "NN1 = 16:16:256; Nerr = 8 * NN1[end]\n",
    "max_err1 = interpolation_error.(Ref(finf), NN1, Nerr)\n",
    "p2 = plot(NN1, max_err1; lw=3, m=:o, ms=5, label = L\"\\|f - I_N f\\|_\\infty\",\n",
    "    yscale = :log10, xscale = :identity, xlabel = L\"N\", \n",
    "    size = (400, 300), )\n",
    "\n",
    "NN2 = (2).^(3:12); Nerr = 8 * NN2[end]\n",
    "max_err2 = interpolation_error.(Ref(finf), NN2, Nerr)\n",
    "p3 = plot(NN2, max_err2; lw=3, m=:o, ms=5, label = L\"\\|f - I_N f\\|_\\infty\",\n",
    "    yscale = :log10, xscale = :log10, xlabel = L\"N\", \n",
    "    size = (400, 300), )\n",
    "\n",
    "# plot both \n",
    "plot(p2, p3, layout = (1,2), size = (600, 300))\n"
   ]
  },
  {
   "cell_type": "code",
   "execution_count": null,
   "id": "0da4810e",
   "metadata": {},
   "outputs": [],
   "source": []
  }
 ],
 "metadata": {
  "kernelspec": {
   "display_name": "Julia 1.10.4",
   "language": "julia",
   "name": "julia-1.10"
  },
  "language_info": {
   "file_extension": ".jl",
   "mimetype": "application/julia",
   "name": "julia",
   "version": "1.10.4"
  }
 },
 "nbformat": 4,
 "nbformat_minor": 5
}
