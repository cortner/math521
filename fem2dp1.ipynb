{
 "cells": [
  {
   "cell_type": "code",
   "execution_count": null,
   "metadata": {},
   "outputs": [],
   "source": []
  },
  {
   "cell_type": "code",
   "execution_count": null,
   "metadata": {},
   "outputs": [],
   "source": [
    "using Pkg; Pkg.activate(\".\")\n",
    "using SparseArrays, LinearAlgebra, Ferrite, FerriteViz, \n",
    "      WGLMakie, Makie, StaticArrays, ForwardDiff\n",
    "using GeometryBasics: TriangleFace\n",
    "Makie.inline!(true);\n",
    "\n",
    "# this is a little wrapper around Makie.mesh to plot \n",
    "# P1 functions on unstructured meshes\n",
    "function trisurf(grid, U)\n",
    "    x = [n.x[1] for n in grid.nodes]\n",
    "    y = [n.x[2] for n in grid.nodes]\n",
    "    z = U\n",
    "    faces = TriangleFace.([ c.nodes for c in grid.cells ])\n",
    "    mesh(x, y, z, faces, color=z)\n",
    "end"
   ]
  },
  {
   "cell_type": "markdown",
   "metadata": {},
   "source": [
    "# P1 Finite Element Method \n",
    "\n",
    "We solve \n",
    "$$\n",
    "\\begin{aligned}\n",
    "  - \\Delta u &= f, \\quad \\Omega, \\\\ \n",
    "    u &= 0, \\quad \\partial \\Omega\n",
    "    \\end{aligned}\n",
    "$$\n",
    "using a P1 finite element method. The weak form is : Find $u \\in H^1_0(\\Omega)$ such that \n",
    "$$\n",
    "    \\int_\\Omega \\nabla u \\cdot \\nabla v \\,dx = \\int_\\Omega f v \\,dx \\qquad \\forall v \\in H^1_0.\n",
    "$$\n",
    "For the definition of the conforming P1 finite element space see the class notes. This gives us the space $V_h = P_1(\\mathcal{T}_h) \\cap H^1_0$ where $\\mathcal{T}_h$ is a regular triangulation of $\\Omega$. \n",
    "\n",
    "For example, the following short snippet generated a triangulation of the square $\\Omega = (-1, 1)^2$. But in general, we should import meshes from a sophisticated mesh generator such as GMSH."
   ]
  },
  {
   "cell_type": "code",
   "execution_count": null,
   "metadata": {},
   "outputs": [],
   "source": [
    "grid = generate_grid(Triangle, (10, 10))\n",
    "FerriteViz.wireframe(grid, markersize = 15, figure = (resolution=(500,500),))"
   ]
  },
  {
   "cell_type": "markdown",
   "metadata": {},
   "source": [
    "We can quickly learn how the triangulation is stored by inspecting the fields of `grid`. We see that `grid.nodes` is a list of positions and `grid.cells` is a list of triangles with each triangle specified by the indices of the nodes. This is all the information we need to proceed for now. There is a lot more information in `grid` that we don't require at the moment. "
   ]
  },
  {
   "cell_type": "code",
   "execution_count": null,
   "metadata": {
    "slideshow": {
     "slide_type": "subslide"
    }
   },
   "outputs": [],
   "source": [
    "@show grid.nodes[1]\n",
    "@show grid.cells[1];"
   ]
  },
  {
   "cell_type": "code",
   "execution_count": null,
   "metadata": {},
   "outputs": [],
   "source": [
    "# get some helpful auxiliary information, namely the \n",
    "# list of boundary nodes. \n",
    "nnodes = length(grid.nodes)\n",
    "boundary = findall(node -> norm(node.x, Inf) == 1, grid.nodes)\n",
    "interior = setdiff(1:nnodes, boundary);"
   ]
  },
  {
   "cell_type": "markdown",
   "metadata": {},
   "source": [
    "After expressing FE functions in terms of a nodal basis, $u_h = \\sum_i U_i \\psi_i$, we need to compute $A_{ij} = a(\\psi_i, \\psi_j)$ and $b_i = \\ell(\\psi_i)$. This represents the bilinear and linear forms as \n",
    "$$\n",
    "  a(u_h, v_h) = V^T A U, \\qquad \\ell(v_h) = V^T b.\n",
    "$$\n",
    "\n",
    "This is implement in the main assembly loop as follows. See the class notes for the details of the implemented steps."
   ]
  },
  {
   "cell_type": "code",
   "execution_count": null,
   "metadata": {},
   "outputs": [],
   "source": [
    "function assemble_dirichlet_p1(grid, f)\n",
    "    nnodes = length(grid.nodes)\n",
    "    # pre-allocate : again this should be a sparse format \n",
    "    # but we continue to keep it simple for now.\n",
    "    A = zeros(nnodes, nnodes)\n",
    "    b = zeros(nnodes)\n",
    "    \n",
    "    for T in grid.cells \n",
    "        # local nodes\n",
    "        XT = (grid.nodes[T.nodes[1]].x, grid.nodes[T.nodes[2]].x, grid.nodes[T.nodes[3]].x)\n",
    "        # deformation matrix, volume element = abs(det(F)), grad transform\n",
    "        F = [ XT[2] - XT[1] XT[3] - XT[1] ]\n",
    "        volT = abs(det(F))\n",
    "        F⁻ᵀ = pinv(F)'     # uses SVD to compute F⁻¹ to be safe\n",
    "        \n",
    "        # element mid-point for quadrature\n",
    "        #   ∫_T f(x) ψᵢ(x) dx = volT * f(ξ) * ψᵢ(ξ) + O(h⁴)\n",
    "        ξ = sum(XT) / 3 \n",
    "        fξ = f(ξ)\n",
    "        \n",
    "        # assemble the right-hand side\n",
    "        for i = 1:3 \n",
    "            nᵢ = T.nodes[i] \n",
    "            ψᵢ = 1/3   # ψᵢ(ξ) = 1/3 since ξ = midpoint\n",
    "            b[nᵢ] += volT * fξ * ψᵢ\n",
    "        end\n",
    "        \n",
    "        # assemble the stiffness matrix\n",
    "        ∇ψ̂ = ( [-1.0, -1.0], [1.0, 0.0], [0.0, 1.0] )\n",
    "        ∇ψ = ( F⁻ᵀ * ∇ψ̂[1], F⁻ᵀ * ∇ψ̂[2], F⁻ᵀ * ∇ψ̂[3] )\n",
    "        for i = 1:3, j = 1:3 \n",
    "            nᵢ = T.nodes[i]; nⱼ = T.nodes[j] \n",
    "            A[nᵢ, nⱼ] += volT * dot(∇ψ[i], ∇ψ[j]) \n",
    "        end         \n",
    "    end\n",
    "    \n",
    "    return A, b \n",
    "end"
   ]
  },
  {
   "cell_type": "code",
   "execution_count": null,
   "metadata": {},
   "outputs": [],
   "source": [
    "# now we use the same trick as in 1D. We generate \n",
    "# a DOF vector for ALL nodes but then solve the \n",
    "# equation only for the free nodes.\n",
    "A, b = assemble_dirichlet_p1(grid, x -> 1.0)\n",
    "U = zeros(nnodes)\n",
    "U[interior] = A[interior, interior] \\ b[interior];"
   ]
  },
  {
   "cell_type": "code",
   "execution_count": null,
   "metadata": {},
   "outputs": [],
   "source": [
    "trisurf(grid, 4*U)"
   ]
  },
  {
   "cell_type": "markdown",
   "metadata": {},
   "source": [
    "Let's try a variation on this: Take $\\Gamma_N$ to be the right face of $\\Omega$ and solve the Dirichlet-Neumann problem \n",
    "$$\n",
    "\\begin{aligned}\n",
    "  - \\Delta u &= f, \\quad \\Omega \\\\ \n",
    "    u &= 0, \\quad \\Gamma_{\\rm D} \\\\ \n",
    "    \\nabla u \\cdot \\nu &= 0, \\quad \\Gamma_{\\rm N} \n",
    "\\end{aligned}\n",
    "$$\n",
    "The weak form becomes \n",
    "$$\n",
    "  \\int_\\Omega \\nabla u \\cdot \\nabla v dx = \\int_\\Omega f v dx \\qquad \\forall v \\in H^1_{\\Gamma_D},\n",
    "$$\n",
    "i.e. same as before but on a different space. So all we need to change is which nodes are clamped. \n"
   ]
  },
  {
   "cell_type": "code",
   "execution_count": null,
   "metadata": {},
   "outputs": [],
   "source": [
    "dirichlet_nodes = findall(node -> node.x[1] == -1 || abs(node.x[2]) == 1, grid.nodes)\n",
    "free_nodes = setdiff(1:nnodes, dirichlet_nodes);\n",
    "A, b = assemble_dirichlet_p1(grid, x -> 1.0)\n",
    "U = zeros(nnodes)\n",
    "U[free_nodes] = A[free_nodes, free_nodes] \\ b[free_nodes];"
   ]
  },
  {
   "cell_type": "code",
   "execution_count": null,
   "metadata": {},
   "outputs": [],
   "source": [
    "trisurf(grid, 4*U)"
   ]
  },
  {
   "cell_type": "markdown",
   "metadata": {},
   "source": [
    "This gives a first simple FEM code to play with. We can now explore many things, more general $a_{ij}, a_0, f$, more general boundary conditions and so forth. For now we just add a simple convergence test?\n",
    "\n",
    "For the Dirichlet problem the exact solution is not easy to find. So we change the problem a bit by specifying the solution, then analytically computing the force $f$. (we will actually use AD to make our lives a bit easier)\n",
    "\n",
    "We can now compute the error w.r.t. to several norms. For the sake of simplicity, we do it in the $L^2$-norm and $H^1$-semi-norm. (these are also the ones we will analyze later)"
   ]
  },
  {
   "cell_type": "code",
   "execution_count": null,
   "metadata": {},
   "outputs": [],
   "source": [
    "u_ex(x) = cos(pi*x[1]/2) * cos(pi*x[2]/2)\n",
    "∇u_ex(x) = ForwardDiff.gradient(u_ex, x)\n",
    "f_ex(x) = - tr(ForwardDiff.jacobian(∇u_ex, x));\n",
    "\n",
    "# to be safe we can check that we did the right thing:\n",
    "# x = randn(2)\n",
    "# pi^2/2 * u_ex(x) ≈ f_ex(x)"
   ]
  },
  {
   "cell_type": "code",
   "execution_count": null,
   "metadata": {},
   "outputs": [],
   "source": [
    "\n",
    "# the function `solve` puts together our script from above \n",
    "# and solves the same problem for different mesh sizes. \n",
    "# Here, N = number of elements along each face of the domain \n",
    "# to the corresponding mesh size is h = 1/N.\n",
    "function solve(N)\n",
    "    grid = generate_grid(Triangle, (N, N))\n",
    "    nnodes = length(grid.nodes)\n",
    "    free = findall(node -> norm(node.x, Inf) < 1-0.01/N, grid.nodes)\n",
    "    A, b = assemble_dirichlet_p1(grid, f_ex)\n",
    "    U = zeros(nnodes)\n",
    "    U[free] = sparse(A[free, free]) \\ b[free];    \n",
    "    return U, grid\n",
    "end\n",
    "\n",
    "# the next function implements the two error norms\n",
    "function errors(U, grid)\n",
    "    nnodes = length(grid.nodes)\n",
    "    err_L2_sq = 0.0 \n",
    "    err_H1_sq = 0.0 \n",
    "    \n",
    "    for T in grid.cells \n",
    "        # local information (see comments in code above)\n",
    "        XT = (grid.nodes[T.nodes[1]].x, grid.nodes[T.nodes[2]].x, grid.nodes[T.nodes[3]].x)\n",
    "        F = [ XT[2] - XT[1] XT[3] - XT[1] ]\n",
    "        volT = abs(det(F))\n",
    "        F⁻ᵀ = pinv(F)'  \n",
    "        ξ = sum(XT) / 3 \n",
    "        ∇ψ̂ = ( [-1.0, -1.0], [1.0, 0.0], [0.0, 1.0] )\n",
    "        ∇ψ = ( F⁻ᵀ * ∇ψ̂[1], F⁻ᵀ * ∇ψ̂[2], F⁻ᵀ * ∇ψ̂[3] )\n",
    "        ψ = (1/3, 1/3, 1/3)\n",
    "\n",
    "        # now we evaluate u, ∇u at the quadrature point ξ\n",
    "        uξ = sum( U[nᵢ] * ψ[i] for (i, nᵢ) in enumerate(T.nodes) )\n",
    "        ∇uξ = sum( U[nᵢ] * ∇ψ[i] for (i, nᵢ) in enumerate(T.nodes) )\n",
    "        \n",
    "        # from those we can now update the errors\n",
    "        err_L2_sq += volT * (u_ex(ξ) - uξ)^2\n",
    "        err_H1_sq += volT * norm(∇u_ex(ξ) - ∇uξ)^2\n",
    "    end\n",
    "    \n",
    "    return sqrt(err_L2_sq), sqrt(err_H1_sq)\n",
    "end"
   ]
  },
  {
   "cell_type": "code",
   "execution_count": null,
   "metadata": {},
   "outputs": [],
   "source": [
    "# now we can compute the errors in a nice simple loop\n",
    "NN = [5, 10, 20, 40, 80, 160]\n",
    "errs0 = Float64[]\n",
    "errs1 = Float64[] \n",
    "for N in NN \n",
    "    err0, err1 = errors(solve(N)...)\n",
    "    push!(errs0, err0); push!(errs1, err1)\n",
    "end\n"
   ]
  },
  {
   "cell_type": "markdown",
   "metadata": {},
   "source": [
    "We are now in a position to produce a nice figure. The following is still quite simple but close to publication quality. Some key features: \n",
    "- label all axis\n",
    "- appropriate fonts and font sizes\n",
    "- clearly label the graphs\n",
    "- use a modern colour scheme\n",
    "- indicate the convergence rates"
   ]
  },
  {
   "cell_type": "code",
   "execution_count": null,
   "metadata": {},
   "outputs": [],
   "source": [
    "# ... and visualize them\n",
    "fig = Figure(size = (400, 400); fontsize=30)\n",
    "ax = Axis(fig[1, 1], xlabel = L\"h^{-1}\", ylabel = L\"\\text{error}\", \n",
    "          xscale = log10, yscale = log10,)\n",
    "scatterlines!(NN, errs0; linewidth=5, markersize=20, label=L\"L^2\")\n",
    "scatterlines!(NN, errs1; linewidth=5, markersize=20, label = L\"H^1\")\n",
    "NN1 = NN[3:5]\n",
    "lines!(NN1, 2.2 ./ NN1; color=:black, linewidth=3, label = L\"h, h^2\")\n",
    "lines!(NN1, 3 ./ NN1.^2; color=:black, linewidth=3)\n",
    "axislegend(ax)\n",
    "fig"
   ]
  },
  {
   "cell_type": "markdown",
   "metadata": {},
   "source": [
    "The last results give us a lot of confidence that (1) our method converges. And (2) it talls us what convergence rates to expect: $O(h)$ in energy-norm and $O(h^2)$ in $L^2$-norm. We will rigorously prove these. \n",
    "\n",
    "**WARNING:** The method of manufactured solutions must be used with care! If we assume more in our postulated solution than is typically satisfied then we might get spurious results - either better or worse than they should be. We will return to this!"
   ]
  }
 ],
 "metadata": {
  "kernelspec": {
   "display_name": "Julia 1.10.0",
   "language": "julia",
   "name": "julia-1.10"
  },
  "language_info": {
   "file_extension": ".jl",
   "mimetype": "application/julia",
   "name": "julia",
   "version": "1.10.0"
  }
 },
 "nbformat": 4,
 "nbformat_minor": 2
}
