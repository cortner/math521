{
 "cells": [
  {
   "cell_type": "code",
   "execution_count": null,
   "id": "178fcee8",
   "metadata": {},
   "outputs": [],
   "source": [
    "using Pkg; Pkg.activate(\".\")\n",
    "using Plots, SparseArrays, QuadGK, ForwardDiff, LinearAlgebra, LaTeXStrings\n",
    "include(\"tools.jl\")"
   ]
  },
  {
   "cell_type": "markdown",
   "id": "ed2306f3",
   "metadata": {},
   "source": [
    "## Motivation for Spectral Methods\n",
    "\n",
    "This is a short notebook to motivate the study of spectral methods for solving PDEs, especially in contrast with finite difference and finite element methods. "
   ]
  },
  {
   "cell_type": "markdown",
   "id": "df004022",
   "metadata": {},
   "source": [
    "We consider a boundary value problem with periodic boundary conditions: \n",
    "$$\n",
    "\\begin{aligned}\n",
    "  - u'' + u &= f, \\quad x \\in (-\\pi, \\pi), \\\\ \n",
    "  u(-\\pi) &= u(\\pi), \\\\ \n",
    "  u'(-\\pi) &= u'(\\pi)\n",
    "\\end{aligned}\n",
    "$$\n",
    "We added the mass term so that there is no subtletly about existence and uniquess; without it we would require that $\\int f = 0$ and add another condition $\\int u = 0$ but that is the only change required. \n"
   ]
  },
  {
   "cell_type": "markdown",
   "id": "717c1fb9",
   "metadata": {},
   "source": [
    "The standard second-order central finite difference scheme (equivalent to P1-FEM) is given by \n",
    "$$ \n",
    "   - \\frac{U_{n+1} - 2 U_n + U_{n-1}}{h^2} + U_n = F_n, \\quad n = 1, \\dots, 2N;\n",
    "$$\n",
    "where $h = \\pi/N, x_n = -\\pi + n h, F_n = f(x_n)$ and $U_n \\approx u(x_n)$. The PBC is implemented via the identification $U_0 = U_{2N}$ and $U_1 = U_{2N+1}$.\n",
    "\n",
    "The next cell gives a simple implementation of this scheme. "
   ]
  },
  {
   "cell_type": "code",
   "execution_count": null,
   "id": "3ffc47d0",
   "metadata": {},
   "outputs": [],
   "source": [
    "# A simple finite difference / FEM solver\n",
    "\n",
    "function fd_method(f_fun, N)\n",
    "    h = pi/N\n",
    "    X = range(-pi, pi, 2*N+1)\n",
    "    A = zeros(2*N, 2*N)\n",
    "    F = zeros(2*N)\n",
    "    for n = 2:(2*N)\n",
    "        A[n,n] = 2/h^2 + 1 \n",
    "        A[n-1, n] = -1/h^2\n",
    "        A[n, n-1] = -1/h^2\n",
    "        F[n] = f_fun(X[n+1])\n",
    "    end \n",
    "    A[1,1] = 2/h^2 + 1 \n",
    "    A[1, 2*N] = -1/h^2 \n",
    "    A[2*N, 1] = -1/h^2\n",
    "    F[1] = f_fun(X[2])\n",
    "    \n",
    "    _U = sparse(A) \\ F \n",
    "    U = [ [_U[end]]; _U]\n",
    "    return X, U \n",
    "end\n"
   ]
  },
  {
   "cell_type": "code",
   "execution_count": null,
   "id": "0cf0f789",
   "metadata": {},
   "outputs": [],
   "source": [
    "# pick some random periodic applied force\n",
    "# f_fun = x -> 1 / (2+sin(x))\n",
    "f_fun = x -> 1 / (1+x^2)\n",
    "\n",
    "X, U = fd_method(f_fun, 12)\n",
    "p1 = plot(X, U; lw=3, m = :o, ms=5, label = \"FD solution\", \n",
    "           size = (400, 300))"
   ]
  },
  {
   "cell_type": "markdown",
   "id": "22ba8e3e",
   "metadata": {},
   "source": [
    "By contrast the spectral method works in a representation where the differential operator diagonalizes. Expanding in a Fourier series, \n",
    "$$\n",
    "   u(x) = \\sum_{k \\in \\mathbb{Z}} \\hat{u}_k e^{i k x} \n",
    "$$\n",
    "one can quickly derive that \n",
    "$$\n",
    "   \\hat{u}_k = \\frac{\\hat{f}_k}{1 + k^2}\n",
    "$$\n",
    "Then we truncate to keep only the terms up to $|k| \\leq N$ and this gives the approximate solution \n",
    "$$\n",
    "  u_N(x) = {\\rm Re}\\bigg( \\sum_{k = -N}^N \\frac{\\hat{f}_k}{1 + k^2} e^{i k x} \\bigg).\n",
    "$$\n",
    "Taking the real part is technically not required here, but in general good practice since in some situations truncation can lead to spurious complex components. "
   ]
  },
  {
   "cell_type": "code",
   "execution_count": null,
   "id": "dd20a8b3",
   "metadata": {},
   "outputs": [],
   "source": [
    "# WARNING: \n",
    "# this code is only for motivation! Please do not \n",
    "# solve real problems this way!!!!!!!!!!!!!! \n",
    "# We will learn how to implement this \"correctly\"\n",
    "\n",
    "function naive_spectral(f_fun, N)\n",
    "    uhat = zeros(ComplexF64, 2*N+1)\n",
    "    for k = -N:N \n",
    "        g = x -> f_fun(x) * exp(-im * k * x)\n",
    "        fhat_k = quadgk(g, -pi, pi; rtol = 1e-6, atol=1e-6)[1] / (2*pi)\n",
    "        uhat[k+N+1] = fhat_k / (1 + k^2)\n",
    "    end\n",
    "    return uhat \n",
    "end\n",
    "\n",
    "function eval_trig(x, uhat) \n",
    "    N = (length(uhat)-1) ÷ 2\n",
    "    return real( sum(uhat[k+N+1] * exp(im * x * k) for k = -N:N) )\n",
    "end\n",
    "\n"
   ]
  },
  {
   "cell_type": "code",
   "execution_count": null,
   "id": "8c7fb11d",
   "metadata": {},
   "outputs": [],
   "source": [
    "uhat = naive_spectral(f_fun, 12)\n",
    "xp = range(-pi, pi, 100)\n",
    "plot!(deepcopy(p1), xp, eval_trig.(xp, Ref(uhat)), lw=3, label = \"spectral soln\")"
   ]
  },
  {
   "cell_type": "markdown",
   "id": "bcc4a398",
   "metadata": {},
   "source": [
    "We can do a naive empirical error analysis ... "
   ]
  },
  {
   "cell_type": "code",
   "execution_count": null,
   "id": "e5f6672b",
   "metadata": {},
   "outputs": [],
   "source": [
    "# define a known exact solution and compute the resulting f\n",
    "# u_ex = x -> abs(sin(x))^3  # 1 / (1 + cos(x)^2)\n",
    "u_ex = x -> exp(cos(x))\n",
    "du_ex = x -> ForwardDiff.derivative(u_ex, x)\n",
    "f_fun = x -> u_ex(x) - ForwardDiff.derivative(du_ex, x)\n",
    "\n",
    "# fine grid on which to evaluate the errors\n",
    "xe = range(-pi, pi, length=1000)\n",
    "ue = u_ex.(xe)\n",
    "\n",
    "# looking at errors for the finite-difference scheme\n",
    "NNfd = [4, 8, 16, 32, 64, 128]\n",
    "err_fd = zeros(length(NNfd))\n",
    "for (i, N) in enumerate(NNfd) \n",
    "    X, U = fd_method(f_fun, N)\n",
    "    ufd = eval_p1.(xe, Ref(U))  # this is implemented in tools.jl\n",
    "    err_fd[i] = norm(ue - ufd, Inf)\n",
    "end\n",
    "\n",
    "# looking at errors for the spectral method\n",
    "NNspec = [4, 8, 12, 16, 20, 24, 28]\n",
    "err_spec = zeros(length(NNspec))\n",
    "for (i, N) in enumerate(NNspec)     \n",
    "    Uhat = naive_spectral(f_fun, N)\n",
    "    uspec = eval_trig.(xe, Ref(Uhat))\n",
    "    err_spec[i] = norm(ue - uspec, Inf)\n",
    "end\n"
   ]
  },
  {
   "cell_type": "code",
   "execution_count": null,
   "id": "5c674c88",
   "metadata": {},
   "outputs": [],
   "source": [
    "p3 = plot(; size=(400, 300), yscale = :log10, xscale = :log10, \n",
    "            legend = :right, ylims = (1e-16, 1e1), \n",
    "            ytick = [1e0, 1e-3, 1e-6, 1e-9, 1e-12, ], \n",
    "            xlabel = L\"N\", ylabel = L\"|\\!|u - u_N|\\!|_\\infty\")\n",
    "plot!(p3, NNfd, err_fd, m=:o, ms=5, lw=3, label = \"fd\")\n",
    "plot!(p3, NNspec, err_spec, m=:o, ms=5, lw=3, label = \"spectral\")\n",
    "plot!(p3, [30, 100], 0.3*[30, 100].^(-1), lw=2, ls=:dash, c = :black, label = \"\")"
   ]
  },
  {
   "cell_type": "markdown",
   "id": "fe96cc3b",
   "metadata": {},
   "source": [
    "To see the rate for the spectral method we need to switch to a linear scale."
   ]
  },
  {
   "cell_type": "code",
   "execution_count": null,
   "id": "6b989bf9",
   "metadata": {},
   "outputs": [],
   "source": [
    "p4 = plot!(deepcopy(p3), [15, 28], exp.(- 0.87 * [15, 28]); \n",
    "            lw=2, ls=:dash, c=:black, label = \"\",\n",
    "    xscale = :identity, xlims = (2, NNspec[end]+5))"
   ]
  },
  {
   "cell_type": "markdown",
   "id": "dbf2fc73",
   "metadata": {},
   "source": [
    "We get an exponential rate of convergence. We will study how this is achieved, and then develop efficient and numerically stable algorithms that allow us to exploit such fast convergence rates more effectively."
   ]
  },
  {
   "cell_type": "code",
   "execution_count": null,
   "id": "f5abb436",
   "metadata": {},
   "outputs": [],
   "source": []
  }
 ],
 "metadata": {
  "kernelspec": {
   "display_name": "Julia 1.10.4",
   "language": "julia",
   "name": "julia-1.10"
  },
  "language_info": {
   "file_extension": ".jl",
   "mimetype": "application/julia",
   "name": "julia",
   "version": "1.10.4"
  }
 },
 "nbformat": 4,
 "nbformat_minor": 5
}
