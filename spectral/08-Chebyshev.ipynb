{
 "cells": [
  {
   "cell_type": "markdown",
   "id": "498f3395",
   "metadata": {},
   "source": [
    "# 08 - Quick Intro to Chebyshev Polynomials"
   ]
  },
  {
   "cell_type": "markdown",
   "id": "bdcbb1ba",
   "metadata": {},
   "source": [
    "### Runge's Phenomenon\n",
    "\n",
    "We consider the function $f : [-1, 1] \\to \\mathbb{R}$, \n",
    "$$\n",
    "   f(x) = \\frac{1}{1 + 25 x^2}\n",
    "$$\n",
    "Note that $f$ is analytic on $[-1,1]$, hence from our work on trigonometric approximation we expect excellent approximation properties. We choose a uniform grid, \n",
    "$$\n",
    "  x_j = -1 + 2j/N, \\qquad j = 0, \\dots, N\n",
    "$$\n",
    "and interpolate $f$ at those grid points. "
   ]
  },
  {
   "cell_type": "code",
   "execution_count": null,
   "id": "7ba280b4",
   "metadata": {},
   "outputs": [],
   "source": [
    "using LaTeXStrings, Plots, LinearAlgebra\n",
    "\n",
    "f = x -> 1/(1+25*x^2)\n",
    "NN1 = [5, 8, 10]\n",
    "NN2 =  5:5:30\n",
    "\n",
    "# do not do this!!! - we will learn later how to do \n",
    "# polynomial interpolation in a numerically stable way.\n",
    "function naive_poly_fit(f, N)\n",
    "   X = range(-1, 1, length=N+1)\n",
    "   A = [ X[m+1]^n for m = 0:N, n = 0:N ]\n",
    "   return A \\ f.(X)\n",
    "end\n",
    "\n",
    "# don't do this either, this is just a quick naive code \n",
    "# suitable for the current experiment. \n",
    "naive_poly_eval(x, c) = sum( c[n] * x^(n-1) for n = 1:length(c) )\n",
    "\n",
    "# first plot \n",
    "xp = range(-1, 1, length=300)\n",
    "P1 = plot(xp, f.(xp); lw=4, label = \"exact\",\n",
    "          size = (400, 400), xlabel = L\"x\")\n",
    "for (iN, N) in enumerate(NN1)\n",
    "   xi = [(-1 + 2*m/N) for m = 0:N]\n",
    "   c = naive_poly_fit(f, N)\n",
    "   plot!(P1, xp, naive_poly_eval.(xp, Ref(c)), c = iN+1, lw=2,label = L\"p_{%$(N)}\")\n",
    "   plot!(P1, xi, f.(xi), lw=0, c = iN+1, m = :o, ms=3, label = \"\")\n",
    "end \n",
    "\n",
    "# second plot \n",
    "xerr = range(-1, 1, length=3_000)\n",
    "err = [ norm( f.(xerr) - naive_poly_eval.(xerr, Ref(naive_poly_fit(f, N))), Inf )\n",
    "      for N in NN2 ]\n",
    "P2 = plot(NN2, err, lw = 3, label = L\"\\Vert f - I_N f \\Vert\", \n",
    "         yscale = :log10, xlabel = L\"N\", legend = :topleft)\n",
    "plot(P1, P2, size = (600, 300), title = \"Witch of Agnesi\")\n"
   ]
  },
  {
   "cell_type": "markdown",
   "id": "3dabbc0f",
   "metadata": {},
   "source": [
    "### The Joukowsky Map \n",
    "\n",
    "Everything we developed for trigonomatric polynomials can still be transferred to algebraic polynomials, but in a far less obvious way.\n",
    "\n",
    "Start with a periodic function that is analytic on some strip, indicated by the blue lines. "
   ]
  },
  {
   "cell_type": "code",
   "execution_count": null,
   "id": "0bb6948f",
   "metadata": {},
   "outputs": [],
   "source": [
    "tt = range(0, 2*pi, length=300)\n",
    "aa = [0.1:0.1:0.5; -0.5:0.1:-0.1]\n",
    "plt = plot(tt, 0*tt, lw=2, c=2, \n",
    "          ylims = (-1.0, 1.0), ylabel = \"θ\")\n",
    "for a in aa\n",
    "    plot!(tt, imag.(tt .+ im*a), lw=1, c=1, label = \"\")\n",
    "end\n",
    "\n",
    "f_fun = θ -> 1 / (1 + 3^2 * cos(θ)^2)\n",
    "plt2 = plot(tt, f_fun.(tt), lw=3, c=:black, label = \"f(θ)\")\n",
    "\n",
    "plot(plt, plt2, size=(650, 300))"
   ]
  },
  {
   "cell_type": "markdown",
   "id": "280b2f23",
   "metadata": {},
   "source": [
    "Now transform this strip + PBC to the complex plane, with the real axis mapping to the unit circle (torus). The transformation that maps the variable $\\theta \\in \\mathbb{R}$ to the unit circle is simply \n",
    "$$\n",
    " \\theta \\mapsto z = e^{i \\theta}\n",
    "$$\n"
   ]
  },
  {
   "cell_type": "code",
   "execution_count": null,
   "id": "e4d15f1d",
   "metadata": {},
   "outputs": [],
   "source": [
    "plt1 = plot(cos.(tt), sin.(tt), lw=2, c=2, title = \"z = exp(i θ)\")\n",
    "for a in aa\n",
    "    u = exp.(im * (tt .+ im * a))\n",
    "    plot!(real.(u), imag.(u), lw=1, c=1, label = \"\")\n",
    "end\n",
    "plt1\n",
    "\n",
    "zz = exp.(im * tt); rr = real.(zz); ii = imag.(zz)\n",
    "plt2 = plot(rr, ii, 0*rr, c=2, lw=3, label = \"\")\n",
    "plot!(rr, ii, f_fun.(tt), c= :black, lw=3, label = \"\")\n",
    "\n",
    "plot(plt1, plt2, size = (700, 300))"
   ]
  },
  {
   "cell_type": "markdown",
   "id": "7f83c2eb",
   "metadata": {},
   "source": [
    "Now notice that the reflection symmetry (kind of by choice) of the function $g(z) = f(\\theta)$, i.e. $g(z) = g(z^*)$. Suppose, that we define a new function \n",
    "$$\n",
    "   h(\\cos\\theta) = f(\\theta) = g(\\cos\\theta + i \\sin\\theta),\n",
    "$$\n",
    "then $h : [-1, 1] \\to \\mathbb{R}$. And in fact $h(x)$ is the classical witch of Agnesi: \n",
    "$$\n",
    "    h(x) = \\frac{1}{1+c^2 x^2}.\n",
    "$$\n",
    "The transform $x = \\cos\\theta$ extends to the complex plane via \n",
    "$$ \\begin{aligned}\n",
    "    z = \\frac{e^{i \\theta} + e^{- i \\theta}}{2},\n",
    "\\end{aligned}$$\n",
    "where $\\theta$ is now complex.\n",
    "\n",
    "Specifically we are interested in how a strip $\\Omega_\\alpha$ transforms under these transformations. We can see this in the next figure."
   ]
  },
  {
   "cell_type": "code",
   "execution_count": null,
   "id": "ebe33e62",
   "metadata": {},
   "outputs": [],
   "source": [
    "plt5 = plot(cos.(tt), 0*tt, lw=2, c=2, title = \"z = (u+u⁻¹)/2\", \n",
    "            ylim = [-0.8, 0.8], xlim = [-1.4, 1.4], label = \"\")\n",
    "for a in aa\n",
    "    u = exp.(im * (tt .+ im * a)); z = (u .+ 1 ./u)/2\n",
    "    plot!(real.(z), imag.(z), lw=1, c=1, label = \"\")\n",
    "end\n",
    "\n",
    "plt6 = plot(cos.(tt), f_fun.(tt), lw=3, c = :black,\n",
    "            label = \"f(θ) = h(x)\", xlabel = \"x = cosθ\")\n",
    "\n",
    "plot(plt5, plt6, size = (700, 300))"
   ]
  },
  {
   "cell_type": "markdown",
   "id": "f5513bfc",
   "metadata": {},
   "source": [
    "We can now ask how everything we know about Trigonoemtric polynomial approximation transforms to chebyshev polynomials? \n",
    "\n",
    "- Equispaced nodes $j \\pi/N$ become Chebyshev nodes: $x_j = \\cos(j\\pi/N)$\n",
    "- The trigonometric basis $e^{i k \\theta}$ becomes the Chebyshev basis: $T_k(\\cos\\theta) = \\cos(k \\theta)$. (Note that reflection symmetry is needed here and this gives symmetry in the coefficients and therefore requires only the cosine series.)\n",
    "- The Fourier series becomes the Chebyshev series\n",
    "- The strip $\\Omega_\\alpha$ becomes the Bernstein ellipse $E_\\rho$ (with related parameters $\\rho, \\alpha$)\n",
    "- The FFT can be used to transform between nodal values at Chebyshev nodes and Chebyshev coefficients.\n",
    "\n",
    "More details in class notes, or see \n",
    "- Nick Trefethen, Approximation Theory and Approximation Practice"
   ]
  },
  {
   "cell_type": "markdown",
   "id": "72c485ee",
   "metadata": {},
   "source": [
    "Equipped with this information, we can have a first stab at fixing the Runge phenomenon."
   ]
  },
  {
   "cell_type": "code",
   "execution_count": null,
   "id": "bc3016df",
   "metadata": {},
   "outputs": [],
   "source": [
    "function chebbasis(x, N)\n",
    "   T = zeros(N+1)\n",
    "   T[1] = 1 \n",
    "   T[2] = x \n",
    "   for n = 2:N\n",
    "      T[n+1] = 2 * x * T[n] - T[n-1] \n",
    "   end \n",
    "   return T \n",
    "end\n",
    "\n",
    "chebnodes(N) = [ cos( π * n / N ) for n = N:-1:0 ]\n",
    "\n",
    "# This implementation does not yet use the FFT!!!\n",
    "function chebinterp(f, N)\n",
    "   X = chebnodes(N)\n",
    "   A = zeros(N+1, N+1)\n",
    "   for (ix, x) in enumerate(X)\n",
    "      A[ix, :] .= chebbasis(x, N)\n",
    "   end\n",
    "   return A \\ f.(X)\n",
    "end\n",
    "\n",
    "chebeval(x, c) = dot(c, chebbasis(x, length(c)-1))"
   ]
  },
  {
   "cell_type": "code",
   "execution_count": null,
   "id": "1845c40c",
   "metadata": {},
   "outputs": [],
   "source": [
    "xp = range(-1, 1, length=300)\n",
    "P1 = plot(xp, f.(xp); lw=4, label = \"exact\",\n",
    "          size = (400, 400), xlabel = L\"x\")\n",
    "for (iN, N) in enumerate(NN1)\n",
    "   xi = [(-1 + 2*m/N) for m = 0:N]\n",
    "   c = chebinterp(f, N)\n",
    "   plot!(P1, xp, chebeval.(xp, Ref(c)), c = iN+1, lw=2,label = L\"p_{%$(N)}\")\n",
    "   plot!(P1, xi, f.(xi), lw=0, c = iN+1, m = :o, ms=3, label = \"\")\n",
    "end \n",
    "\n",
    "# second plot \n",
    "xerr = range(-1, 1, length=3_000)\n",
    "err = [ norm( f.(xerr) - chebeval.(xerr, Ref(chebinterp(f, N))), Inf )\n",
    "      for N in NN2 ]\n",
    "P2 = plot(NN2, err, lw = 3, label = L\"\\Vert f - I_N f \\Vert\", \n",
    "         yscale = :log10, xlabel = L\"N\", legend = :topleft)\n",
    "plot!(P2, NN2[3:end], 4*(1.23).^(-NN2[3:end]), c=:black, ls=:dash, label = L\"\\rho^{-N}\")\n",
    "plot(P1, P2, size = (600, 300), title = \"Witch of Agnesi\")"
   ]
  },
  {
   "cell_type": "markdown",
   "id": "150db883",
   "metadata": {},
   "source": [
    "---"
   ]
  },
  {
   "cell_type": "markdown",
   "id": "590e780d",
   "metadata": {},
   "source": [
    "## The Fast Chebyshev Transform\n",
    "\n",
    "Because of the intimate connection between Chebyshev polynomials and trigonometric polynomials we can use the FFT to implement the interpolation operator."
   ]
  },
  {
   "cell_type": "code",
   "execution_count": null,
   "id": "b267f100",
   "metadata": {},
   "outputs": [],
   "source": [
    "using FFTW \n",
    "\n",
    "function fct(A::AbstractVector)\n",
    "    N = length(A)\n",
    "    F = real.(ifft([A[1:N]; A[N-1:-1:2]]))\n",
    "   return [[F[1]]; 2*F[2:(N-1)]; [F[N]]]\n",
    "end\n",
    "\n",
    "\"\"\"\n",
    "Fast and stable implementation based on the FFT. This uses \n",
    "the connection between Chebyshev and trigonometric interpolation.\n",
    "But this transform needs the reverse chebyshev nodes.\n",
    "\"\"\"\n",
    "chebinterp(f, N) = fct(f.(reverse(chebnodes(N))))\n",
    "\n",
    "\"\"\"\n",
    "Evaluate a polynomial with coefficients F̃ in the Chebyshev basis. \n",
    "This avoids storing the basis and is significantly faster.\n",
    "\"\"\"\n",
    "function chebeval(x, F̃) \n",
    "    T0 = one(x); T1 = x \n",
    "    p = F̃[1] * T0 + F̃[2] * T1 \n",
    "    for n = 3:length(F̃)\n",
    "        T0, T1 = T1, 2*x*T1 - T0 \n",
    "        p += F̃[n] * T1 \n",
    "    end \n",
    "    return p \n",
    "end \n"
   ]
  },
  {
   "cell_type": "code",
   "execution_count": null,
   "id": "3fc98aca",
   "metadata": {},
   "outputs": [],
   "source": [
    "xp = range(-1, 1, length=300)\n",
    "P1 = plot(xp, f.(xp); lw=4, label = \"exact\",\n",
    "          size = (400, 400), xlabel = L\"x\")\n",
    "for (iN, N) in enumerate(NN1)\n",
    "   xi = [(-1 + 2*m/N) for m = 0:N]\n",
    "   c = chebinterp(f, N)\n",
    "   plot!(P1, xp, chebeval.(xp, Ref(c)), c = iN+1, lw=2,label = L\"p_{%$(N)}\")\n",
    "   plot!(P1, xi, f.(xi), lw=0, c = iN+1, m = :o, ms=3, label = \"\")\n",
    "end \n",
    "\n",
    "# second plot \n",
    "xerr = range(-1, 1, length=3_000)\n",
    "err = [ norm( f.(xerr) - chebeval.(xerr, Ref(chebinterp(f, N))), Inf )\n",
    "      for N in NN2 ]\n",
    "P2 = plot(NN2, err, lw = 3, label = L\"\\Vert f - I_N f \\Vert\", \n",
    "         yscale = :log10, xlabel = L\"N\", legend = :topleft)\n",
    "plot!(P2, NN2[3:end], 4*(1.23).^(-NN2[3:end]), c=:black, ls=:dash, label = L\"\\rho^{-N}\")\n",
    "plot(P1, P2, size = (600, 300), title = \"Witch of Agnesi\")\n",
    "\n"
   ]
  },
  {
   "cell_type": "code",
   "execution_count": null,
   "id": "92e6b655",
   "metadata": {},
   "outputs": [],
   "source": [
    "# let's take this to the extreme ... \n",
    "f = x -> 1 / (1 + 2000 * x^2)\n",
    "NN = 16:16:1_600\n",
    "\n",
    "xerr = range(-1, 1, length=3_000)\n",
    "err = [ norm( f.(xerr) - chebeval.(xerr, Ref(chebinterp(f, N))), Inf )\n",
    "        for N in NN ]\n",
    "P2 = plot(NN, err, lw = 3, label = L\"\\Vert f - I_N f \\Vert\", \n",
    "         yscale = :log10, xlabel = L\"N\", legend = :topright, \n",
    "         yticks = [1.0, 1e-3, 1e-6, 1e-9, 1e-12, 1e-15])\n",
    "plot!(NN, 0*NN .+ eps(), c=:red, ls = :dot, label = \"eps\" )\n",
    "tt = [250, 750]\n",
    "plot!(tt, 4*(1+1/sqrt(2000)).^(-tt), c=:black, ls=:dash, \n",
    "      label = L\"\\rho^{-N}\", size = (400, 250))"
   ]
  },
  {
   "cell_type": "code",
   "execution_count": null,
   "id": "569fc4a9",
   "metadata": {},
   "outputs": [],
   "source": []
  }
 ],
 "metadata": {
  "kernelspec": {
   "display_name": "Julia 1.10.4",
   "language": "julia",
   "name": "julia-1.10"
  },
  "language_info": {
   "file_extension": ".jl",
   "mimetype": "application/julia",
   "name": "julia",
   "version": "1.10.4"
  }
 },
 "nbformat": 4,
 "nbformat_minor": 5
}
